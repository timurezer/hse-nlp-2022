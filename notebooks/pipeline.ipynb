{
  "cells": [
    {
      "cell_type": "markdown",
      "metadata": {
        "id": "7dr1AyIA9Qv5"
      },
      "source": [
        "# Multi-label классификация по ключевым словам\n",
        "\n",
        "В данном ноутбуке решается задача классификации статей журнала IEEE по ключевым словам, выделенным из абстракта. "
      ]
    },
    {
      "cell_type": "code",
      "execution_count": null,
      "metadata": {
        "id": "MniX9uE69Qv8"
      },
      "outputs": [],
      "source": [
        "import os\n",
        "import re\n",
        "from typing import Callable, Union\n",
        "from string import punctuation\n",
        "from collections import namedtuple\n",
        "import copy\n",
        "import numpy as np\n",
        "import pandas as pd\n",
        "from sklearn.feature_extraction.text import TfidfVectorizer\n",
        "from sklearn.model_selection import train_test_split\n",
        "from scipy import sparse\n",
        "import matplotlib.pyplot as plt\n",
        "import torch\n",
        "from torch import nn"
      ]
    },
    {
      "cell_type": "markdown",
      "metadata": {
        "id": "sqFjrHEk9Qv9"
      },
      "source": [
        "## Предобработка"
      ]
    },
    {
      "cell_type": "markdown",
      "metadata": {
        "id": "-lzz026a9Qv9"
      },
      "source": [
        "Загрузим собранный датасет в датафрейм `pandas` и начнем предобработку данных."
      ]
    },
    {
      "cell_type": "code",
      "execution_count": null,
      "metadata": {
        "id": "7nIbYwid9Qv-",
        "outputId": "069c41a7-4f09-4dcc-c8b0-5da87010f3e9"
      },
      "outputs": [
        {
          "data": {
            "text/html": [
              "<div>\n",
              "<style scoped>\n",
              "    .dataframe tbody tr th:only-of-type {\n",
              "        vertical-align: middle;\n",
              "    }\n",
              "\n",
              "    .dataframe tbody tr th {\n",
              "        vertical-align: top;\n",
              "    }\n",
              "\n",
              "    .dataframe thead th {\n",
              "        text-align: right;\n",
              "    }\n",
              "</style>\n",
              "<table border=\"1\" class=\"dataframe\">\n",
              "  <thead>\n",
              "    <tr style=\"text-align: right;\">\n",
              "      <th></th>\n",
              "      <th>journal</th>\n",
              "      <th>DOI</th>\n",
              "      <th>abstract</th>\n",
              "      <th>keywords</th>\n",
              "    </tr>\n",
              "  </thead>\n",
              "  <tbody>\n",
              "    <tr>\n",
              "      <th>0</th>\n",
              "      <td>ieee-proc</td>\n",
              "      <td>10.1109/PROC.1984.12812</td>\n",
              "      <td>The Japanese Super-Speed Computer project, rec...</td>\n",
              "      <td>0000000000000000000000000000000000000000000010...</td>\n",
              "    </tr>\n",
              "    <tr>\n",
              "      <th>1</th>\n",
              "      <td>ieee-proc</td>\n",
              "      <td>10.1109/PROC.1984.12813</td>\n",
              "      <td>Supercomputers play important roles in various...</td>\n",
              "      <td>0010000000000000000000000000000000001000000000...</td>\n",
              "    </tr>\n",
              "    <tr>\n",
              "      <th>2</th>\n",
              "      <td>ieee-proc</td>\n",
              "      <td>10.1109/PROC.1984.12814</td>\n",
              "      <td>Digital Scene Simulation is Digital Production...</td>\n",
              "      <td>0000000000000000000000000000000000000000100000...</td>\n",
              "    </tr>\n",
              "    <tr>\n",
              "      <th>3</th>\n",
              "      <td>ieee-proc</td>\n",
              "      <td>10.1109/PROC.1984.12815</td>\n",
              "      <td>High-speed computers with large memories are v...</td>\n",
              "      <td>0000000000000000000000000000000000000000100000...</td>\n",
              "    </tr>\n",
              "    <tr>\n",
              "      <th>4</th>\n",
              "      <td>ieee-proc</td>\n",
              "      <td>10.1109/PROC.1984.12817</td>\n",
              "      <td>This paper presents a case study in the design...</td>\n",
              "      <td>0010000000000000000000000000000000000000001000...</td>\n",
              "    </tr>\n",
              "  </tbody>\n",
              "</table>\n",
              "</div>"
            ],
            "text/plain": [
              "     journal                      DOI  \\\n",
              "0  ieee-proc  10.1109/PROC.1984.12812   \n",
              "1  ieee-proc  10.1109/PROC.1984.12813   \n",
              "2  ieee-proc  10.1109/PROC.1984.12814   \n",
              "3  ieee-proc  10.1109/PROC.1984.12815   \n",
              "4  ieee-proc  10.1109/PROC.1984.12817   \n",
              "\n",
              "                                            abstract  \\\n",
              "0  The Japanese Super-Speed Computer project, rec...   \n",
              "1  Supercomputers play important roles in various...   \n",
              "2  Digital Scene Simulation is Digital Production...   \n",
              "3  High-speed computers with large memories are v...   \n",
              "4  This paper presents a case study in the design...   \n",
              "\n",
              "                                            keywords  \n",
              "0  0000000000000000000000000000000000000000000010...  \n",
              "1  0010000000000000000000000000000000001000000000...  \n",
              "2  0000000000000000000000000000000000000000100000...  \n",
              "3  0000000000000000000000000000000000000000100000...  \n",
              "4  0010000000000000000000000000000000000000001000...  "
            ]
          },
          "execution_count": 18,
          "metadata": {},
          "output_type": "execute_result"
        }
      ],
      "source": [
        "ROOT_DIR = os.path.split(os.getcwd())[0]\n",
        "\n",
        "\n",
        "df = pd.read_csv(\n",
        "    os.path.join(ROOT_DIR, 'data', 'processed', 'dataset.csv'),\n",
        "    quotechar='\"',\n",
        "    encoding='utf-8'\n",
        ")\n",
        "df.head()"
      ]
    },
    {
      "cell_type": "code",
      "execution_count": null,
      "metadata": {
        "id": "kv4rloNv9Qv-",
        "outputId": "ec9982a2-4a3f-41cb-9914-3a0b6c7250dd"
      },
      "outputs": [
        {
          "data": {
            "text/plain": [
              "40964    we report a study about the impact of sn compo...\n",
              "Name: abstract, dtype: object"
            ]
          },
          "execution_count": 19,
          "metadata": {},
          "output_type": "execute_result"
        }
      ],
      "source": [
        "for _, row in df.iterrows():\n",
        "    s = row['abstract']\n",
        "    s = s.lower()                              # make lowercase\n",
        "    s = re.sub(r'\\\\[\\S]+', '', s)              # remove all backslash sequences\n",
        "    s = re.sub(r'\\[[0-9]+\\]', '', s)           # remove citations\n",
        "    s = re.sub(r'[0-9]+(?:\\.[0-9]+)?', '', s)  # remove numbers\n",
        "    for ch in punctuation:\n",
        "        s = s.replace(ch, '')\n",
        "    s = s.encode(encoding='ascii', errors='ignore').decode()\n",
        "    s = re.sub(r'\\s+', ' ', s)       # remove tabs and multiple spaces\n",
        "    row['abstract'] = s\n",
        "\n",
        "df.sample()['abstract']"
      ]
    },
    {
      "cell_type": "code",
      "execution_count": null,
      "metadata": {
        "id": "CVzWJnNx9Qv_",
        "outputId": "b2985eaf-96bb-450a-b8ec-dfe6412ef93d"
      },
      "outputs": [
        {
          "data": {
            "text/plain": [
              "array([[0, 0, 0, ..., 0, 0, 0],\n",
              "       [0, 0, 1, ..., 0, 0, 0],\n",
              "       [0, 0, 0, ..., 0, 0, 0],\n",
              "       ...,\n",
              "       [0, 0, 0, ..., 0, 0, 0],\n",
              "       [0, 0, 0, ..., 0, 0, 0],\n",
              "       [0, 0, 0, ..., 0, 0, 0]])"
            ]
          },
          "execution_count": 20,
          "metadata": {},
          "output_type": "execute_result"
        }
      ],
      "source": [
        "Y = np.array([list(map(int, mask)) for mask in df['keywords']])\n",
        "Y"
      ]
    },
    {
      "cell_type": "markdown",
      "metadata": {
        "id": "AqLwOh_Z9QwA"
      },
      "source": [
        "В дальнейшем будем проводить классификацию, предсказывая, сколько слов среди 5  (датасет `top5`) или 100 (датасет `top100`) самых популярных соответствует абстракту. Посмотрим на датасеты:"
      ]
    },
    {
      "cell_type": "code",
      "execution_count": null,
      "metadata": {
        "id": "VnPmE6fR9QwA",
        "outputId": "1e20b0bd-b5f0-4665-c7e5-e45ac8042167"
      },
      "outputs": [
        {
          "name": "stdout",
          "output_type": "stream",
          "text": [
            "5 top keywords: 18929 abstracts\n"
          ]
        },
        {
          "data": {
            "text/html": [
              "<div>\n",
              "<style scoped>\n",
              "    .dataframe tbody tr th:only-of-type {\n",
              "        vertical-align: middle;\n",
              "    }\n",
              "\n",
              "    .dataframe tbody tr th {\n",
              "        vertical-align: top;\n",
              "    }\n",
              "\n",
              "    .dataframe thead th {\n",
              "        text-align: right;\n",
              "    }\n",
              "</style>\n",
              "<table border=\"1\" class=\"dataframe\">\n",
              "  <thead>\n",
              "    <tr style=\"text-align: right;\">\n",
              "      <th></th>\n",
              "      <th>journal</th>\n",
              "      <th>DOI</th>\n",
              "      <th>abstract</th>\n",
              "      <th>keywords</th>\n",
              "    </tr>\n",
              "  </thead>\n",
              "  <tbody>\n",
              "    <tr>\n",
              "      <th>24883</th>\n",
              "      <td>ieee-tac</td>\n",
              "      <td>10.1109/9.508914</td>\n",
              "      <td>the eigenstructure assignment problem for a li...</td>\n",
              "      <td>10100</td>\n",
              "    </tr>\n",
              "    <tr>\n",
              "      <th>7525</th>\n",
              "      <td>ieee-proc</td>\n",
              "      <td>10.1109/PROC.1969.7013</td>\n",
              "      <td>application of broadband panchromatic illumina...</td>\n",
              "      <td>00001</td>\n",
              "    </tr>\n",
              "    <tr>\n",
              "      <th>31061</th>\n",
              "      <td>ieee-ted</td>\n",
              "      <td>10.1109/TED.2021.3074115</td>\n",
              "      <td>this article reports the influence of both con...</td>\n",
              "      <td>00010</td>\n",
              "    </tr>\n",
              "    <tr>\n",
              "      <th>40060</th>\n",
              "      <td>ieee-ted</td>\n",
              "      <td>10.1109/TED.2020.2989741</td>\n",
              "      <td>the dvdt in superjunction metaloxidesemiconduc...</td>\n",
              "      <td>01000</td>\n",
              "    </tr>\n",
              "    <tr>\n",
              "      <th>34105</th>\n",
              "      <td>ieee-ted</td>\n",
              "      <td>10.1109/TED.2018.2866125</td>\n",
              "      <td>with the aid of an analytical and general mode...</td>\n",
              "      <td>01000</td>\n",
              "    </tr>\n",
              "  </tbody>\n",
              "</table>\n",
              "</div>"
            ],
            "text/plain": [
              "         journal                       DOI  \\\n",
              "24883   ieee-tac          10.1109/9.508914   \n",
              "7525   ieee-proc    10.1109/PROC.1969.7013   \n",
              "31061   ieee-ted  10.1109/TED.2021.3074115   \n",
              "40060   ieee-ted  10.1109/TED.2020.2989741   \n",
              "34105   ieee-ted  10.1109/TED.2018.2866125   \n",
              "\n",
              "                                                abstract keywords  \n",
              "24883  the eigenstructure assignment problem for a li...    10100  \n",
              "7525   application of broadband panchromatic illumina...    00001  \n",
              "31061  this article reports the influence of both con...    00010  \n",
              "40060  the dvdt in superjunction metaloxidesemiconduc...    01000  \n",
              "34105  with the aid of an analytical and general mode...    01000  "
            ]
          },
          "execution_count": 21,
          "metadata": {},
          "output_type": "execute_result"
        }
      ],
      "source": [
        "n = 5\n",
        "\n",
        "mask = Y[:, :n].any(axis=1)\n",
        "print(f'{n} top keywords: {np.sum(mask)} abstracts')\n",
        "top5 = df[mask].copy()\n",
        "for _, row in top5.iterrows():\n",
        "    row['keywords'] = row['keywords'][:n]\n",
        "\n",
        "top5.sample(5)"
      ]
    },
    {
      "cell_type": "code",
      "execution_count": null,
      "metadata": {
        "id": "C-fCer9z9QwB",
        "outputId": "ecbca02e-83a2-4aba-ffaa-e3dd95aa62b2"
      },
      "outputs": [
        {
          "name": "stdout",
          "output_type": "stream",
          "text": [
            "100 top keywords: 53702 abstracts\n"
          ]
        },
        {
          "data": {
            "text/html": [
              "<div>\n",
              "<style scoped>\n",
              "    .dataframe tbody tr th:only-of-type {\n",
              "        vertical-align: middle;\n",
              "    }\n",
              "\n",
              "    .dataframe tbody tr th {\n",
              "        vertical-align: top;\n",
              "    }\n",
              "\n",
              "    .dataframe thead th {\n",
              "        text-align: right;\n",
              "    }\n",
              "</style>\n",
              "<table border=\"1\" class=\"dataframe\">\n",
              "  <thead>\n",
              "    <tr style=\"text-align: right;\">\n",
              "      <th></th>\n",
              "      <th>journal</th>\n",
              "      <th>DOI</th>\n",
              "      <th>abstract</th>\n",
              "      <th>keywords</th>\n",
              "    </tr>\n",
              "  </thead>\n",
              "  <tbody>\n",
              "    <tr>\n",
              "      <th>21972</th>\n",
              "      <td>ieee-tac</td>\n",
              "      <td>10.1109/TAC.2002.804453</td>\n",
              "      <td>numerical counterexamples and theoretical anal...</td>\n",
              "      <td>0010000000000000000000000000000000000000000000...</td>\n",
              "    </tr>\n",
              "    <tr>\n",
              "      <th>29832</th>\n",
              "      <td>ieee-ted</td>\n",
              "      <td>10.1109/TED.2017.2677948</td>\n",
              "      <td>si cmos imagesensor cis cells were designed by...</td>\n",
              "      <td>0001000000000000000000000000000000000000000000...</td>\n",
              "    </tr>\n",
              "    <tr>\n",
              "      <th>43236</th>\n",
              "      <td>ieee-tcom</td>\n",
              "      <td>10.1109/TCOMM.2016.2597148</td>\n",
              "      <td>this paper considers optimal multiband transmi...</td>\n",
              "      <td>0000000000000000000000000000000000000000000000...</td>\n",
              "    </tr>\n",
              "    <tr>\n",
              "      <th>53</th>\n",
              "      <td>ieee-proc</td>\n",
              "      <td>10.1109/PROC.1972.8633</td>\n",
              "      <td>previous attempts at modeling the early effect...</td>\n",
              "      <td>0010000000000001000000000000000000000000000000...</td>\n",
              "    </tr>\n",
              "    <tr>\n",
              "      <th>50424</th>\n",
              "      <td>ieee-tcom</td>\n",
              "      <td>10.1109/TCOMM.2013.093013.120607</td>\n",
              "      <td>link failures in wide area networks are common...</td>\n",
              "      <td>0000000000000000000000100000000000000000000000...</td>\n",
              "    </tr>\n",
              "  </tbody>\n",
              "</table>\n",
              "</div>"
            ],
            "text/plain": [
              "         journal                               DOI  \\\n",
              "21972   ieee-tac           10.1109/TAC.2002.804453   \n",
              "29832   ieee-ted          10.1109/TED.2017.2677948   \n",
              "43236  ieee-tcom        10.1109/TCOMM.2016.2597148   \n",
              "53     ieee-proc            10.1109/PROC.1972.8633   \n",
              "50424  ieee-tcom  10.1109/TCOMM.2013.093013.120607   \n",
              "\n",
              "                                                abstract  \\\n",
              "21972  numerical counterexamples and theoretical anal...   \n",
              "29832  si cmos imagesensor cis cells were designed by...   \n",
              "43236  this paper considers optimal multiband transmi...   \n",
              "53     previous attempts at modeling the early effect...   \n",
              "50424  link failures in wide area networks are common...   \n",
              "\n",
              "                                                keywords  \n",
              "21972  0010000000000000000000000000000000000000000000...  \n",
              "29832  0001000000000000000000000000000000000000000000...  \n",
              "43236  0000000000000000000000000000000000000000000000...  \n",
              "53     0010000000000001000000000000000000000000000000...  \n",
              "50424  0000000000000000000000100000000000000000000000...  "
            ]
          },
          "execution_count": 22,
          "metadata": {},
          "output_type": "execute_result"
        }
      ],
      "source": [
        "n = 100\n",
        "\n",
        "mask = Y[:, :n].any(axis=1)\n",
        "print(f'{n} top keywords: {np.sum(mask)} abstracts')\n",
        "top100 = df[mask].copy()\n",
        "for _, row in top100.iterrows():\n",
        "    row['keywords'] = row['keywords'][:n]\n",
        "\n",
        "top100.sample(5)"
      ]
    },
    {
      "cell_type": "markdown",
      "metadata": {
        "id": "DB0r0Hn09QwB"
      },
      "source": [
        "Для того, чтобы получить векторные представления абстрактов, воспользуемся `TF-IDF`.\\\n",
        "Векторное представление для `top5`:"
      ]
    },
    {
      "cell_type": "code",
      "execution_count": null,
      "metadata": {
        "id": "3aP_h6KX9QwB",
        "outputId": "e14d877a-12fa-492b-e8e8-f97f192c96e1"
      },
      "outputs": [
        {
          "data": {
            "text/plain": [
              "(17036, 2048)"
            ]
          },
          "execution_count": 23,
          "metadata": {},
          "output_type": "execute_result"
        }
      ],
      "source": [
        "vectorizer = TfidfVectorizer(max_features=2048, encoding='ascii')\n",
        "X = vectorizer.fit_transform(top5['abstract'])\n",
        "y = np.array([list(map(int, mask)) for mask in top5['keywords']],\n",
        "             dtype='uint8')\n",
        "X_train, X_test, y_train, y_test = train_test_split(X, y, test_size=0.1, shuffle=True)\n",
        "\n",
        "X_train.shape"
      ]
    },
    {
      "cell_type": "markdown",
      "metadata": {
        "id": "Q8fUKq7N9QwB"
      },
      "source": [
        "## Метрики"
      ]
    },
    {
      "cell_type": "markdown",
      "metadata": {
        "id": "a0_8_VHt9QwC"
      },
      "source": [
        "Определим метрики `accuracy`, `precision`, `recall` для нашего случая. Сравниваем one-hot вектора покомпонентно, и каждое такое сравнение компонент считаем за отдельное наблюдение, то есть если в обоих векторах первая компонента равна единице - это вклад в `True Positive`, вторая в предсказанных значениях равна единице, а в реальных нет - это вклад в `False positive`, и так далее."
      ]
    },
    {
      "cell_type": "code",
      "execution_count": null,
      "metadata": {
        "id": "vTJyLCtU9QwC"
      },
      "outputs": [],
      "source": [
        "Metrics = namedtuple('Metrics', ('accuracy', 'precision', 'recall', 'F2'))\n",
        "\n",
        "\n",
        "def calculate_metrics(predicted: np.ndarray,\n",
        "                      answer: np.ndarray) -> Metrics:\n",
        "    assert predicted.shape == answer.shape\n",
        "    size = 1\n",
        "    for x in predicted.shape:\n",
        "        size *= x\n",
        "\n",
        "    mask_pred = (predicted == 1)\n",
        "    mask_ans = (answer == 1)\n",
        "    true_positives = (mask_pred & mask_ans).sum()\n",
        "    true_negatives = (~mask_pred & ~mask_ans).sum()\n",
        "    accuracy = (true_positives + true_negatives) / size\n",
        "\n",
        "    precision = 0.0\n",
        "    predicted_positives = mask_pred.sum()\n",
        "    if predicted_positives > 0:\n",
        "        precision = true_positives / predicted_positives\n",
        "\n",
        "    recall = 0.0\n",
        "    actual_positives = mask_ans.sum()\n",
        "    if actual_positives > 0:\n",
        "        recall = true_positives / actual_positives\n",
        "\n",
        "    F2 = 0.0\n",
        "    if recall != 0 and precision != 0:\n",
        "        F2 = 2 * recall * precision / (recall + precision)\n",
        "\n",
        "    return Metrics(accuracy, precision, recall, F2)"
      ]
    },
    {
      "cell_type": "markdown",
      "metadata": {
        "id": "V8jgT3Ic9QwC"
      },
      "source": [
        "## Классификация без нейронных сетей"
      ]
    },
    {
      "cell_type": "markdown",
      "metadata": {
        "id": "Y__W38CZ9QwC"
      },
      "source": [
        "К данным было применено 4 различных классификатора: наивный байесовский классификатор, дерево решений, метод опорных векторов и KNN. Сравним их работу на датасете `top5`."
      ]
    },
    {
      "cell_type": "code",
      "execution_count": null,
      "metadata": {
        "id": "tLNJEYOu9QwD"
      },
      "outputs": [],
      "source": [
        "class MultiLabelClassifier:\n",
        "    def __init__(self, num_labels: int, binary_classifier: Callable, kwargs: dict):\n",
        "        self.num_labels = num_labels\n",
        "        self.classifiers = [binary_classifier(**kwargs)\n",
        "                            for _ in range(num_labels)]\n",
        "\n",
        "    def fit(self, X, y):\n",
        "        for i, clf in enumerate(self.classifiers):\n",
        "            clf.fit(X, y[:, i])\n",
        "\n",
        "    def predict(self, X):\n",
        "        predictions = np.zeros((X.shape[0], self.num_labels), dtype='int')\n",
        "        for i, clf in enumerate(self.classifiers):\n",
        "            predictions[:, i] = clf.predict(X)\n",
        "        return predictions"
      ]
    },
    {
      "cell_type": "markdown",
      "source": [
        "Наивный байесовский классификатор:"
      ],
      "metadata": {
        "id": "Mt7V08N0ArcZ"
      }
    },
    {
      "cell_type": "code",
      "execution_count": null,
      "metadata": {
        "id": "-kE2nvrJ9QwD",
        "outputId": "70e46f1e-9a15-4621-f48e-9ba2e10d729d"
      },
      "outputs": [
        {
          "data": {
            "text/plain": [
              "Metrics(accuracy=0.8446909667194928, precision=0.6359163591635917, recall=0.7271448663853727, F2=0.6784776902887139)"
            ]
          },
          "execution_count": 26,
          "metadata": {},
          "output_type": "execute_result"
        }
      ],
      "source": [
        "from sklearn.naive_bayes import MultinomialNB\n",
        "\n",
        "clf = MultiLabelClassifier(\n",
        "    num_labels=5,\n",
        "    binary_classifier=MultinomialNB,\n",
        "    kwargs={}\n",
        ")\n",
        "clf.fit(X_train, y_train)\n",
        "pred = clf.predict(X_test)\n",
        "\n",
        "calculate_metrics(pred, y_test)\n"
      ]
    },
    {
      "cell_type": "markdown",
      "source": [
        "Дерево решений:"
      ],
      "metadata": {
        "id": "ldOup0VWAzEF"
      }
    },
    {
      "cell_type": "code",
      "execution_count": null,
      "metadata": {
        "id": "4rXeXNKk9QwD",
        "outputId": "1f32f901-db20-400e-e9d4-b556ad21ad75"
      },
      "outputs": [
        {
          "data": {
            "text/plain": [
              "Metrics(accuracy=0.8734284204965663, precision=0.7676016027475673, recall=0.6286919831223629, F2=0.6912371134020618)"
            ]
          },
          "execution_count": 27,
          "metadata": {},
          "output_type": "execute_result"
        }
      ],
      "source": [
        "from sklearn.tree import DecisionTreeClassifier\n",
        "\n",
        "clf = MultiLabelClassifier(\n",
        "    num_labels=5,\n",
        "    binary_classifier=DecisionTreeClassifier,\n",
        "    kwargs=dict(max_depth=7, min_samples_leaf=5)\n",
        ")\n",
        "clf.fit(X_train, y_train)\n",
        "pred = clf.predict(X_test)\n",
        "\n",
        "calculate_metrics(pred, y_test)"
      ]
    },
    {
      "cell_type": "markdown",
      "source": [
        "Метод опорных векторов:"
      ],
      "metadata": {
        "id": "ieK4bU3hA3bw"
      }
    },
    {
      "cell_type": "code",
      "execution_count": null,
      "metadata": {
        "id": "UoULeHGL9QwE",
        "outputId": "b15743de-b0f6-4b69-e9e0-f34730e6c316"
      },
      "outputs": [
        {
          "data": {
            "text/plain": [
              "Metrics(accuracy=0.8842049656629688, precision=0.7780160857908848, recall=0.6802625410220347, F2=0.7258629314657329)"
            ]
          },
          "execution_count": 28,
          "metadata": {},
          "output_type": "execute_result"
        }
      ],
      "source": [
        "from sklearn.svm import LinearSVC\n",
        "\n",
        "clf = MultiLabelClassifier(\n",
        "    num_labels=5,\n",
        "    binary_classifier=LinearSVC,\n",
        "    kwargs={}\n",
        ")\n",
        "clf.fit(X_train, y_train)\n",
        "pred = clf.predict(X_test)\n",
        "\n",
        "calculate_metrics(pred, y_test)"
      ]
    },
    {
      "cell_type": "markdown",
      "source": [
        "Метод k-ближайших соседей:"
      ],
      "metadata": {
        "id": "hG8d5DSvBBvv"
      }
    },
    {
      "cell_type": "code",
      "execution_count": null,
      "metadata": {
        "id": "_9EYjrA69QwE",
        "outputId": "3fb8ebae-df8c-4ca3-d6ba-24be2d8f90cb"
      },
      "outputs": [
        {
          "data": {
            "text/plain": [
              "Metrics(accuracy=0.866877971473851, precision=0.7475893363584799, recall=0.6179090482887951, F2=0.6765913757700206)"
            ]
          },
          "execution_count": 29,
          "metadata": {},
          "output_type": "execute_result"
        }
      ],
      "source": [
        "from sklearn.neighbors import KNeighborsClassifier\n",
        "\n",
        "knn = KNeighborsClassifier(n_neighbors=15, weights=\"distance\", n_jobs=-1)\n",
        "knn.fit(X_train, y_train)\n",
        "pred = knn.predict(X_test)\n",
        "\n",
        "calculate_metrics(pred, y_test)"
      ]
    },
    {
      "cell_type": "markdown",
      "metadata": {
        "id": "EHc92tNx9QwE"
      },
      "source": [
        "Значения метрик для этих классификаторов достаточно близки, но лучший результат показал `метод опорных векторов.`"
      ]
    },
    {
      "cell_type": "markdown",
      "metadata": {
        "id": "4nzoMfmE9QwE"
      },
      "source": [
        "## Классификация с использованием нейронных сетей"
      ]
    },
    {
      "cell_type": "markdown",
      "metadata": {
        "id": "z8H8VEib9QwF"
      },
      "source": [
        "Определим класс для работы с датасетом и обучим на датасетах `top5` и `top100` простую нейронную сеть, состоящую из трех полносвязных линейных слоев с функцией активации `ReLU`."
      ]
    },
    {
      "cell_type": "code",
      "execution_count": null,
      "metadata": {
        "id": "gTtYI0-q9QwF"
      },
      "outputs": [],
      "source": [
        "class AbstractsDataset:\n",
        "    def __init__(self, X: Union[np.ndarray, sparse.spmatrix],\n",
        "                 y: Union[np.ndarray, sparse.spmatrix],\n",
        "                 batch_size: int = 64):\n",
        "        self.X = copy.deepcopy(X)\n",
        "        self.y = copy.deepcopy(y)\n",
        "        self.num_samples, self.num_features = X.shape\n",
        "        self.batch_size = batch_size\n",
        "        self.inds = np.arange(self.num_samples)\n",
        "\n",
        "    def __len__(self):\n",
        "        return self.num_samples\n",
        "\n",
        "    def set_batch_size(self, batch_size: int):\n",
        "        self.batch_size = batch_size\n",
        "\n",
        "    def shuffle(self):\n",
        "        self.inds = np.random.permutation(self.num_samples)\n",
        "\n",
        "    def __iter__(self):\n",
        "        start = 0\n",
        "        while start < len(self):\n",
        "            stop = min(start + self.batch_size, self.num_samples)\n",
        "            inds = self.inds[start:stop]\n",
        "            X = self.X[inds]\n",
        "            if isinstance(X, sparse.spmatrix):\n",
        "                X = X.toarray()\n",
        "            y = self.y[inds]\n",
        "            if isinstance(y, sparse.spmatrix):\n",
        "                y = y.toarray()\n",
        "            yield X, y\n",
        "            start = stop"
      ]
    },
    {
      "cell_type": "code",
      "execution_count": null,
      "metadata": {
        "id": "eXD7mnTa9QwF"
      },
      "outputs": [],
      "source": [
        "class Model(nn.Module):\n",
        "    \"\"\"\n",
        "    Neural net with a single hidden layer.\n",
        "    \"\"\"\n",
        "    def __init__(self, num_features, num_labels, shape_hidden=(1024, 512)):\n",
        "        super().__init__()\n",
        "        self.flatten = nn.Flatten()\n",
        "        self.stack = nn.Sequential(\n",
        "            nn.Linear(num_features, shape_hidden[0]),\n",
        "            nn.ReLU(),\n",
        "            nn.Linear(shape_hidden[0], shape_hidden[1]),\n",
        "            nn.ReLU(),\n",
        "            nn.Linear(shape_hidden[1], num_labels),\n",
        "            nn.Sigmoid()\n",
        "        )\n",
        "\n",
        "    def forward(self, x: torch.Tensor) -> torch.Tensor:\n",
        "        return self.stack(x)"
      ]
    },
    {
      "cell_type": "code",
      "execution_count": null,
      "metadata": {
        "id": "Rxwa72f89QwF"
      },
      "outputs": [],
      "source": [
        "def train(model, train_dataset, val_dataset, device, epochs=20, lr=1e-3):\n",
        "    optimizer = torch.optim.Adam(model.parameters(), lr=lr)\n",
        "    train_losses = np.zeros(epochs)\n",
        "    train_metrics = []\n",
        "    val_losses = np.zeros_like(train_losses)\n",
        "    val_metrics = []\n",
        "    loss_function = nn.BCELoss()\n",
        "\n",
        "    for i in range(epochs):\n",
        "        print(f'Epoch {i + 1}')\n",
        "\n",
        "        # train loop\n",
        "        loss, metrics = single_pass(\n",
        "            model=model,\n",
        "            dataset=train_dataset,\n",
        "            device=device,\n",
        "            loss_function=loss_function,\n",
        "            optimizer=optimizer\n",
        "        )\n",
        "        train_dataset.shuffle()\n",
        "        print(f'Train: loss = {loss:.3f},', end=' ')\n",
        "        print('acc = {:.3f}, prec = {:.3f}, rec = {:.3f}, F2 = {:.3f}'.format(\n",
        "            metrics.accuracy, metrics.precision,\n",
        "            metrics.recall, metrics.F2\n",
        "        ))\n",
        "        train_losses[i] = loss\n",
        "        train_metrics.append(metrics)\n",
        "\n",
        "        # validation loop\n",
        "        with torch.no_grad():\n",
        "            loss, metrics = single_pass(\n",
        "                model=model,\n",
        "                dataset=val_dataset,\n",
        "                device=device,\n",
        "                loss_function=loss_function,\n",
        "                optimizer=None\n",
        "            )\n",
        "        print(f'Validation: loss = {loss:.3f},', end=' ')\n",
        "        print('acc = {:.3f}, prec = {:.3f}, rec = {:.3f}, F2 = {:.3f}'.format(\n",
        "            metrics.accuracy, metrics.precision,\n",
        "            metrics.recall, metrics.F2\n",
        "        ))\n",
        "        val_losses[i] = loss\n",
        "        val_metrics.append(metrics)\n",
        "        print()\n",
        "\n",
        "    train_metrics = Metrics(\n",
        "        accuracy=np.array([m.accuracy for m in train_metrics]),\n",
        "        precision=np.array([m.precision for m in train_metrics]),\n",
        "        recall=np.array([m.recall for m in train_metrics]),\n",
        "        F2=np.array([m.F2 for m in train_metrics]),\n",
        "    )\n",
        "\n",
        "    val_metrics = Metrics(\n",
        "        accuracy=np.array([m.accuracy for m in val_metrics]),\n",
        "        precision=np.array([m.precision for m in val_metrics]),\n",
        "        recall=np.array([m.recall for m in val_metrics]),\n",
        "        F2=np.array([m.F2 for m in val_metrics]),\n",
        "    )\n",
        "\n",
        "    return train_losses, val_losses, train_metrics, val_metrics\n",
        "\n",
        "\n",
        "def single_pass(model, dataset, device, loss_function, optimizer=None):\n",
        "    # train loop\n",
        "    losses = []\n",
        "    accuracies = []\n",
        "    precision_values = []\n",
        "    recall_values = []\n",
        "    F2_values = []\n",
        "    batch_sizes = []\n",
        "    for X_j, y_j in dataset:\n",
        "        # forward loop\n",
        "        X_j = torch.tensor(X_j, dtype=torch.float32, device=device)\n",
        "        y_j = torch.tensor(y_j, dtype=torch.float32, device=device)\n",
        "        output = model.forward(X_j)\n",
        "        loss = loss_function(output, y_j)\n",
        "        # evaluate and save metrics\n",
        "        losses.append(loss.item())\n",
        "        predicted = np.round(output.cpu().detach().numpy()).astype('uint8')\n",
        "        m = calculate_metrics(\n",
        "            predicted, y_j.cpu().numpy().astype('uint8'))\n",
        "        accuracies.append(m.accuracy)\n",
        "        precision_values.append(m.precision)\n",
        "        recall_values.append(m.recall)\n",
        "        F2_values.append(m.F2)\n",
        "        batch_sizes.append(X_j.shape[0])\n",
        "\n",
        "        if optimizer is not None:\n",
        "            # backpropagation\n",
        "            optimizer.zero_grad()\n",
        "            loss.backward()\n",
        "            optimizer.step()\n",
        "\n",
        "    batch_sizes = np.array(batch_sizes)\n",
        "    num_samples = np.sum(batch_sizes)\n",
        "    loss = np.sum(np.array(losses) * batch_sizes) / num_samples\n",
        "    accuracy = np.sum(np.array(accuracies) * batch_sizes) / num_samples\n",
        "    precision = np.sum(np.array(precision_values) * batch_sizes) / num_samples\n",
        "    recall = np.sum(np.array(recall_values * batch_sizes)) / num_samples\n",
        "    F2 = np.sum(np.array(F2_values * batch_sizes)) / num_samples\n",
        "    return loss, Metrics(accuracy, precision, recall, F2)"
      ]
    },
    {
      "cell_type": "code",
      "execution_count": null,
      "metadata": {
        "id": "SFSBmbPC9QwF"
      },
      "outputs": [],
      "source": [
        "def plot_results(ax, train_results, val_results, label):\n",
        "    epochs = np.arange(1, len(train_results) + 1)\n",
        "    ax.plot(epochs, train_results, label='train')\n",
        "    ax.plot(epochs, val_results, label='validation')\n",
        "    ax.set_xlabel('Epochs')\n",
        "    ax.set_ylabel(label)\n",
        "    ax.grid(linestyle=':')\n",
        "    ax.legend()\n",
        "    return ax"
      ]
    },
    {
      "cell_type": "markdown",
      "source": [
        "Обучим модель на `top5`:"
      ],
      "metadata": {
        "id": "SIwcOVXsB9oW"
      }
    },
    {
      "cell_type": "code",
      "execution_count": null,
      "metadata": {
        "id": "LzRgnuWN9QwG",
        "outputId": "8d71183f-9bf1-4f63-cc71-4c2dd3532817"
      },
      "outputs": [
        {
          "name": "stdout",
          "output_type": "stream",
          "text": [
            "Epoch 1\n",
            "Train: loss = 0.630, acc = 0.747, prec = 0.105, rec = 0.098, F2 = 0.078\n",
            "Validation: loss = 0.525, acc = 0.775, prec = 0.000, rec = 0.000, F2 = 0.000\n",
            "\n",
            "Epoch 2\n",
            "Train: loss = 0.482, acc = 0.781, prec = 0.231, rec = 0.041, F2 = 0.067\n",
            "Validation: loss = 0.425, acc = 0.816, prec = 0.781, rec = 0.258, F2 = 0.387\n",
            "\n",
            "Epoch 3\n",
            "Train: loss = 0.381, acc = 0.831, prec = 0.717, rec = 0.423, F2 = 0.529\n",
            "Validation: loss = 0.360, acc = 0.837, prec = 0.706, rec = 0.473, F2 = 0.566\n",
            "\n",
            "Epoch 4\n",
            "Train: loss = 0.345, acc = 0.838, prec = 0.712, rec = 0.476, F2 = 0.570\n",
            "Validation: loss = 0.338, acc = 0.842, prec = 0.732, rec = 0.473, F2 = 0.574\n",
            "\n",
            "Epoch 5\n",
            "Train: loss = 0.322, acc = 0.847, prec = 0.755, rec = 0.477, F2 = 0.584\n",
            "Validation: loss = 0.318, acc = 0.853, prec = 0.776, rec = 0.490, F2 = 0.600\n",
            "\n",
            "Epoch 6\n",
            "Train: loss = 0.302, acc = 0.861, prec = 0.788, rec = 0.528, F2 = 0.632\n",
            "Validation: loss = 0.304, acc = 0.865, prec = 0.800, rec = 0.536, F2 = 0.641\n",
            "\n",
            "Epoch 7\n",
            "Train: loss = 0.286, acc = 0.873, prec = 0.808, rec = 0.575, F2 = 0.672\n",
            "Validation: loss = 0.292, acc = 0.873, prec = 0.805, rec = 0.577, F2 = 0.671\n",
            "\n",
            "Epoch 8\n",
            "Train: loss = 0.271, acc = 0.882, prec = 0.821, rec = 0.612, F2 = 0.701\n",
            "Validation: loss = 0.280, acc = 0.879, prec = 0.812, rec = 0.606, F2 = 0.693\n",
            "\n",
            "Epoch 9\n",
            "Train: loss = 0.257, acc = 0.889, prec = 0.828, rec = 0.643, F2 = 0.723\n",
            "Validation: loss = 0.271, acc = 0.884, prec = 0.803, rec = 0.643, F2 = 0.713\n",
            "\n",
            "Epoch 10\n",
            "Train: loss = 0.245, acc = 0.895, prec = 0.829, rec = 0.675, F2 = 0.744\n",
            "Validation: loss = 0.265, acc = 0.886, prec = 0.800, rec = 0.659, F2 = 0.722\n",
            "\n",
            "Epoch 11\n",
            "Train: loss = 0.235, acc = 0.900, prec = 0.831, rec = 0.700, F2 = 0.760\n",
            "Validation: loss = 0.261, acc = 0.888, prec = 0.799, rec = 0.674, F2 = 0.731\n",
            "\n",
            "Epoch 12\n",
            "Train: loss = 0.227, acc = 0.904, prec = 0.834, rec = 0.718, F2 = 0.771\n",
            "Validation: loss = 0.259, acc = 0.888, prec = 0.787, rec = 0.691, F2 = 0.736\n",
            "\n",
            "Epoch 13\n",
            "Train: loss = 0.221, acc = 0.907, prec = 0.836, rec = 0.734, F2 = 0.782\n",
            "Validation: loss = 0.258, acc = 0.888, prec = 0.787, rec = 0.690, F2 = 0.735\n",
            "\n",
            "Epoch 14\n",
            "Train: loss = 0.215, acc = 0.909, prec = 0.839, rec = 0.742, F2 = 0.787\n",
            "Validation: loss = 0.257, acc = 0.891, prec = 0.795, rec = 0.692, F2 = 0.740\n",
            "\n",
            "Epoch 15\n",
            "Train: loss = 0.210, acc = 0.912, prec = 0.840, rec = 0.753, F2 = 0.794\n",
            "Validation: loss = 0.257, acc = 0.890, prec = 0.792, rec = 0.694, F2 = 0.740\n",
            "\n",
            "Epoch 16\n",
            "Train: loss = 0.206, acc = 0.914, prec = 0.842, rec = 0.760, F2 = 0.799\n",
            "Validation: loss = 0.258, acc = 0.888, prec = 0.779, rec = 0.700, F2 = 0.738\n",
            "\n",
            "Epoch 17\n",
            "Train: loss = 0.202, acc = 0.915, prec = 0.845, rec = 0.765, F2 = 0.803\n",
            "Validation: loss = 0.259, acc = 0.889, prec = 0.787, rec = 0.696, F2 = 0.739\n",
            "\n",
            "Epoch 18\n",
            "Train: loss = 0.199, acc = 0.917, prec = 0.846, rec = 0.772, F2 = 0.807\n",
            "Validation: loss = 0.260, acc = 0.889, prec = 0.784, rec = 0.700, F2 = 0.739\n",
            "\n",
            "Epoch 19\n",
            "Train: loss = 0.196, acc = 0.919, prec = 0.851, rec = 0.776, F2 = 0.812\n",
            "Validation: loss = 0.262, acc = 0.887, prec = 0.777, rec = 0.699, F2 = 0.736\n",
            "\n",
            "Epoch 20\n",
            "Train: loss = 0.193, acc = 0.920, prec = 0.851, rec = 0.781, F2 = 0.814\n",
            "Validation: loss = 0.263, acc = 0.887, prec = 0.775, rec = 0.699, F2 = 0.735\n",
            "\n",
            "Epoch 21\n",
            "Train: loss = 0.190, acc = 0.921, prec = 0.853, rec = 0.786, F2 = 0.818\n",
            "Validation: loss = 0.265, acc = 0.887, prec = 0.777, rec = 0.699, F2 = 0.736\n",
            "\n",
            "Epoch 22\n",
            "Train: loss = 0.188, acc = 0.922, prec = 0.856, rec = 0.788, F2 = 0.820\n",
            "Validation: loss = 0.266, acc = 0.887, prec = 0.775, rec = 0.706, F2 = 0.739\n",
            "\n",
            "Epoch 23\n",
            "Train: loss = 0.185, acc = 0.923, prec = 0.858, rec = 0.793, F2 = 0.824\n",
            "Validation: loss = 0.268, acc = 0.886, prec = 0.769, rec = 0.705, F2 = 0.735\n",
            "\n",
            "Epoch 24\n",
            "Train: loss = 0.183, acc = 0.925, prec = 0.860, rec = 0.797, F2 = 0.827\n",
            "Validation: loss = 0.269, acc = 0.887, prec = 0.774, rec = 0.703, F2 = 0.737\n",
            "\n",
            "Epoch 25\n",
            "Train: loss = 0.181, acc = 0.926, prec = 0.862, rec = 0.800, F2 = 0.830\n",
            "Validation: loss = 0.272, acc = 0.885, prec = 0.767, rec = 0.701, F2 = 0.732\n",
            "\n",
            "Epoch 26\n",
            "Train: loss = 0.179, acc = 0.926, prec = 0.863, rec = 0.801, F2 = 0.831\n",
            "Validation: loss = 0.273, acc = 0.886, prec = 0.766, rec = 0.710, F2 = 0.737\n",
            "\n",
            "Epoch 27\n",
            "Train: loss = 0.177, acc = 0.927, prec = 0.863, rec = 0.806, F2 = 0.833\n",
            "Validation: loss = 0.275, acc = 0.885, prec = 0.764, rec = 0.705, F2 = 0.733\n",
            "\n",
            "Epoch 28\n",
            "Train: loss = 0.175, acc = 0.929, prec = 0.866, rec = 0.809, F2 = 0.837\n",
            "Validation: loss = 0.277, acc = 0.885, prec = 0.766, rec = 0.707, F2 = 0.735\n",
            "\n",
            "Epoch 29\n",
            "Train: loss = 0.173, acc = 0.930, prec = 0.868, rec = 0.811, F2 = 0.839\n",
            "Validation: loss = 0.279, acc = 0.883, prec = 0.759, rec = 0.705, F2 = 0.731\n",
            "\n",
            "Epoch 30\n",
            "Train: loss = 0.171, acc = 0.930, prec = 0.868, rec = 0.815, F2 = 0.840\n",
            "Validation: loss = 0.282, acc = 0.883, prec = 0.759, rec = 0.703, F2 = 0.729\n",
            "\n",
            "Epoch 31\n",
            "Train: loss = 0.169, acc = 0.930, prec = 0.869, rec = 0.815, F2 = 0.841\n",
            "Validation: loss = 0.283, acc = 0.884, prec = 0.761, rec = 0.704, F2 = 0.732\n",
            "\n",
            "Epoch 32\n",
            "Train: loss = 0.167, acc = 0.932, prec = 0.873, rec = 0.818, F2 = 0.844\n",
            "Validation: loss = 0.285, acc = 0.883, prec = 0.759, rec = 0.706, F2 = 0.731\n",
            "\n",
            "Epoch 33\n",
            "Train: loss = 0.165, acc = 0.933, prec = 0.873, rec = 0.821, F2 = 0.846\n",
            "Validation: loss = 0.287, acc = 0.883, prec = 0.759, rec = 0.704, F2 = 0.730\n",
            "\n",
            "Epoch 34\n",
            "Train: loss = 0.163, acc = 0.933, prec = 0.875, rec = 0.824, F2 = 0.848\n",
            "Validation: loss = 0.290, acc = 0.880, prec = 0.751, rec = 0.699, F2 = 0.724\n",
            "\n",
            "Epoch 35\n",
            "Train: loss = 0.162, acc = 0.934, prec = 0.875, rec = 0.827, F2 = 0.850\n",
            "Validation: loss = 0.292, acc = 0.881, prec = 0.751, rec = 0.702, F2 = 0.726\n",
            "\n",
            "Epoch 36\n",
            "Train: loss = 0.160, acc = 0.936, prec = 0.879, rec = 0.830, F2 = 0.853\n",
            "Validation: loss = 0.294, acc = 0.882, prec = 0.757, rec = 0.701, F2 = 0.728\n",
            "\n",
            "Epoch 37\n",
            "Train: loss = 0.158, acc = 0.936, prec = 0.880, rec = 0.831, F2 = 0.854\n",
            "Validation: loss = 0.296, acc = 0.880, prec = 0.751, rec = 0.702, F2 = 0.726\n",
            "\n",
            "Epoch 38\n",
            "Train: loss = 0.156, acc = 0.937, prec = 0.881, rec = 0.834, F2 = 0.857\n",
            "Validation: loss = 0.298, acc = 0.879, prec = 0.748, rec = 0.700, F2 = 0.723\n",
            "\n",
            "Epoch 39\n",
            "Train: loss = 0.154, acc = 0.938, prec = 0.882, rec = 0.837, F2 = 0.859\n",
            "Validation: loss = 0.300, acc = 0.880, prec = 0.750, rec = 0.701, F2 = 0.725\n",
            "\n",
            "Epoch 40\n",
            "Train: loss = 0.152, acc = 0.939, prec = 0.885, rec = 0.838, F2 = 0.861\n",
            "Validation: loss = 0.303, acc = 0.880, prec = 0.748, rec = 0.703, F2 = 0.725\n",
            "\n",
            "Epoch 41\n",
            "Train: loss = 0.150, acc = 0.940, prec = 0.887, rec = 0.842, F2 = 0.864\n",
            "Validation: loss = 0.304, acc = 0.879, prec = 0.747, rec = 0.703, F2 = 0.724\n",
            "\n",
            "Epoch 42\n",
            "Train: loss = 0.148, acc = 0.941, prec = 0.889, rec = 0.845, F2 = 0.866\n",
            "Validation: loss = 0.309, acc = 0.876, prec = 0.736, rec = 0.702, F2 = 0.718\n",
            "\n",
            "Epoch 43\n",
            "Train: loss = 0.146, acc = 0.942, prec = 0.891, rec = 0.849, F2 = 0.869\n",
            "Validation: loss = 0.309, acc = 0.878, prec = 0.742, rec = 0.701, F2 = 0.721\n",
            "\n",
            "Epoch 44\n",
            "Train: loss = 0.143, acc = 0.943, prec = 0.893, rec = 0.852, F2 = 0.871\n",
            "Validation: loss = 0.312, acc = 0.878, prec = 0.744, rec = 0.697, F2 = 0.720\n",
            "\n",
            "Epoch 45\n",
            "Train: loss = 0.141, acc = 0.944, prec = 0.895, rec = 0.855, F2 = 0.874\n",
            "Validation: loss = 0.314, acc = 0.879, prec = 0.745, rec = 0.701, F2 = 0.723\n",
            "\n",
            "Epoch 46\n",
            "Train: loss = 0.139, acc = 0.945, prec = 0.897, rec = 0.858, F2 = 0.877\n",
            "Validation: loss = 0.317, acc = 0.878, prec = 0.746, rec = 0.698, F2 = 0.721\n",
            "\n",
            "Epoch 47\n",
            "Train: loss = 0.137, acc = 0.947, prec = 0.901, rec = 0.860, F2 = 0.880\n",
            "Validation: loss = 0.320, acc = 0.877, prec = 0.739, rec = 0.704, F2 = 0.721\n",
            "\n",
            "Epoch 48\n",
            "Train: loss = 0.134, acc = 0.948, prec = 0.901, rec = 0.864, F2 = 0.882\n",
            "Validation: loss = 0.322, acc = 0.876, prec = 0.740, rec = 0.694, F2 = 0.716\n",
            "\n",
            "Epoch 49\n",
            "Train: loss = 0.132, acc = 0.949, prec = 0.905, rec = 0.866, F2 = 0.885\n",
            "Validation: loss = 0.324, acc = 0.876, prec = 0.740, rec = 0.697, F2 = 0.718\n",
            "\n",
            "Epoch 50\n",
            "Train: loss = 0.129, acc = 0.950, prec = 0.907, rec = 0.869, F2 = 0.887\n",
            "Validation: loss = 0.328, acc = 0.875, prec = 0.734, rec = 0.699, F2 = 0.716\n",
            "\n"
          ]
        }
      ],
      "source": [
        "BATCH_SIZE = 256\n",
        "HIDDEN_IN = 1024\n",
        "HIDDEN_OUT = 512\n",
        "EPOCHS = 50\n",
        "LEARNING_RATE = 1e-4\n",
        "\n",
        "train_dataset = AbstractsDataset(X_train, y_train, BATCH_SIZE)\n",
        "test_dataset = AbstractsDataset(X_test, y_test, BATCH_SIZE)\n",
        "\n",
        "# choose device and initialize model\n",
        "device = torch.device('cuda' if torch.cuda.is_available() else 'cpu')\n",
        "model = Model(\n",
        "    num_features=X.shape[1],\n",
        "    num_labels=y.shape[1],\n",
        "    shape_hidden=(HIDDEN_IN, HIDDEN_OUT)\n",
        ")\n",
        "model = model.to(device)\n",
        "\n",
        "# train model\n",
        "train_losses, val_losses, train_metrics, val_metrics = train(\n",
        "    model=model,\n",
        "    train_dataset=train_dataset,\n",
        "    val_dataset=test_dataset,\n",
        "    device=device,\n",
        "    epochs=EPOCHS,\n",
        "    lr=LEARNING_RATE\n",
        ")"
      ]
    },
    {
      "cell_type": "markdown",
      "metadata": {
        "id": "lY_NhIlA9QwG"
      },
      "source": [
        "Посмотрим на изменение метрик с ростом количества эпох для `top5`."
      ]
    },
    {
      "cell_type": "code",
      "execution_count": null,
      "metadata": {
        "id": "Hej8_Sa49QwG",
        "outputId": "16a571f0-537a-4572-92e4-5f99cf21528e"
      },
      "outputs": [
        {
          "data": {
            "image/png": "[encoded data removed]",
            "text/plain": [
              "<Figure size 432x288 with 1 Axes>"
            ]
          },
          "metadata": {
            "needs_background": "light"
          },
          "output_type": "display_data"
        },
        {
          "data": {
            "image/png": "[encoded data removed]",
            "text/plain": [
              "<Figure size 432x288 with 1 Axes>"
            ]
          },
          "metadata": {
            "needs_background": "light"
          },
          "output_type": "display_data"
        },
        {
          "data": {
            "image/png": "[encoded data removed]",
            "text/plain": [
              "<Figure size 432x288 with 1 Axes>"
            ]
          },
          "metadata": {
            "needs_background": "light"
          },
          "output_type": "display_data"
        },
        {
          "data": {
            "image/png": "[encoded data removed]",
            "text/plain": [
              "<Figure size 432x288 with 1 Axes>"
            ]
          },
          "metadata": {
            "needs_background": "light"
          },
          "output_type": "display_data"
        },
        {
          "data": {
            "image/png": "[encoded data removed]",
            "text/plain": [
              "<Figure size 432x288 with 1 Axes>"
            ]
          },
          "metadata": {
            "needs_background": "light"
          },
          "output_type": "display_data"
        }
      ],
      "source": [
        "plt.close('all')\n",
        "_, ax1 = plt.subplots()\n",
        "ax1 = plot_results(ax1, train_losses, val_losses, 'Loss')\n",
        "_, ax2 = plt.subplots()\n",
        "ax2 = plot_results(ax2, train_metrics.accuracy, val_metrics.accuracy, 'Accuracy')\n",
        "_, ax3 = plt.subplots()\n",
        "ax3 = plot_results(ax3, train_metrics.precision, val_metrics.precision, 'Precision')\n",
        "_, ax4 = plt.subplots()\n",
        "ax4 = plot_results(ax4, train_metrics.recall, val_metrics.recall, 'Recall')\n",
        "_, ax5 = plt.subplots()\n",
        "ax5 = plot_results(ax5, train_metrics.F2, val_metrics.F2, 'F2')\n",
        "plt.show()"
      ]
    },
    {
      "cell_type": "markdown",
      "metadata": {
        "id": "yJ5B-6XP9QwG"
      },
      "source": [
        "Метрики достаточно быстро растут при обучении. Видно, что к 50 эпохе классификатор, основанный на нейронных сетях, работает намного лучше, чем другие классификаторы."
      ]
    },
    {
      "cell_type": "markdown",
      "metadata": {
        "id": "qdVH0e-z9QwG"
      },
      "source": [
        "Сделаем все то же самое для `top100`."
      ]
    },
    {
      "cell_type": "code",
      "execution_count": null,
      "metadata": {
        "id": "blWvtqBE9QwG",
        "outputId": "be79a07c-71e8-44af-875c-68fefe4029e1"
      },
      "outputs": [
        {
          "data": {
            "text/plain": [
              "(48331, 2048)"
            ]
          },
          "execution_count": 40,
          "metadata": {},
          "output_type": "execute_result"
        }
      ],
      "source": [
        "vectorizer = TfidfVectorizer(max_features=2048, encoding='ascii')\n",
        "X = vectorizer.fit_transform(top100['abstract'])\n",
        "y = np.array([list(map(int, mask)) for mask in top100['keywords']],\n",
        "             dtype='uint8')\n",
        "X_train, X_test, y_train, y_test = train_test_split(X, y, test_size=0.1, shuffle=True)\n",
        "\n",
        "X_train.shape"
      ]
    },
    {
      "cell_type": "markdown",
      "source": [
        "Посмотрим, как работает метод опорных векторов:"
      ],
      "metadata": {
        "id": "Phn6oSj7ClZw"
      }
    },
    {
      "cell_type": "code",
      "execution_count": null,
      "metadata": {
        "id": "ZnEoLOhM9QwH",
        "outputId": "990bd0ff-16c6-4b30-83b5-322ea2998cf8"
      },
      "outputs": [
        {
          "data": {
            "text/plain": [
              "Metrics(accuracy=0.9744312046173896, precision=0.6763680724991287, recall=0.24630323031033827, F2=0.36110723424052105)"
            ]
          },
          "execution_count": 41,
          "metadata": {},
          "output_type": "execute_result"
        }
      ],
      "source": [
        "clf = MultiLabelClassifier(\n",
        "    num_labels=100,\n",
        "    binary_classifier=LinearSVC,\n",
        "    kwargs={}\n",
        ")\n",
        "clf.fit(X_train, y_train)\n",
        "pred = clf.predict(X_test)\n",
        "\n",
        "calculate_metrics(pred, y_test)"
      ]
    },
    {
      "cell_type": "markdown",
      "source": [
        "А теперь обучим нейронную сеть:"
      ],
      "metadata": {
        "id": "4YsiBEcPCt26"
      }
    },
    {
      "cell_type": "code",
      "execution_count": null,
      "metadata": {
        "scrolled": true,
        "id": "liw9fprT9QwH",
        "outputId": "c892fea2-a858-4f0e-d9d3-ee75ab851c0d"
      },
      "outputs": [
        {
          "name": "stdout",
          "output_type": "stream",
          "text": [
            "Epoch 1\n",
            "Train: loss = 0.511, acc = 0.891, prec = 0.010, rec = 0.085, F2 = 0.016\n",
            "Validation: loss = 0.146, acc = 0.971, prec = 0.000, rec = 0.000, F2 = 0.000\n",
            "\n",
            "Epoch 2\n",
            "Train: loss = 0.151, acc = 0.971, prec = 0.000, rec = 0.000, F2 = 0.000\n",
            "Validation: loss = 0.135, acc = 0.971, prec = 0.000, rec = 0.000, F2 = 0.000\n",
            "\n",
            "Epoch 3\n",
            "Train: loss = 0.134, acc = 0.971, prec = 0.000, rec = 0.000, F2 = 0.000\n",
            "Validation: loss = 0.132, acc = 0.971, prec = 0.000, rec = 0.000, F2 = 0.000\n",
            "\n",
            "Epoch 4\n",
            "Train: loss = 0.132, acc = 0.971, prec = 0.000, rec = 0.000, F2 = 0.000\n",
            "Validation: loss = 0.131, acc = 0.971, prec = 0.000, rec = 0.000, F2 = 0.000\n",
            "\n",
            "Epoch 5\n",
            "Train: loss = 0.131, acc = 0.971, prec = 0.000, rec = 0.000, F2 = 0.000\n",
            "Validation: loss = 0.130, acc = 0.971, prec = 0.000, rec = 0.000, F2 = 0.000\n",
            "\n",
            "Epoch 6\n",
            "Train: loss = 0.130, acc = 0.971, prec = 0.000, rec = 0.000, F2 = 0.000\n",
            "Validation: loss = 0.130, acc = 0.971, prec = 0.000, rec = 0.000, F2 = 0.000\n",
            "\n",
            "Epoch 7\n",
            "Train: loss = 0.129, acc = 0.971, prec = 0.000, rec = 0.000, F2 = 0.000\n",
            "Validation: loss = 0.128, acc = 0.971, prec = 0.000, rec = 0.000, F2 = 0.000\n",
            "\n",
            "Epoch 8\n",
            "Train: loss = 0.127, acc = 0.971, prec = 0.000, rec = 0.000, F2 = 0.000\n",
            "Validation: loss = 0.125, acc = 0.971, prec = 0.000, rec = 0.000, F2 = 0.000\n",
            "\n",
            "Epoch 9\n",
            "Train: loss = 0.123, acc = 0.971, prec = 0.117, rec = 0.000, F2 = 0.000\n",
            "Validation: loss = 0.119, acc = 0.971, prec = 0.809, rec = 0.001, F2 = 0.002\n",
            "\n",
            "Epoch 10\n",
            "Train: loss = 0.116, acc = 0.971, prec = 0.589, rec = 0.006, F2 = 0.012\n",
            "Validation: loss = 0.113, acc = 0.971, prec = 0.554, rec = 0.008, F2 = 0.016\n",
            "\n",
            "Epoch 11\n",
            "Train: loss = 0.111, acc = 0.971, prec = 0.559, rec = 0.011, F2 = 0.021\n",
            "Validation: loss = 0.110, acc = 0.971, prec = 0.560, rec = 0.013, F2 = 0.026\n",
            "\n",
            "Epoch 12\n",
            "Train: loss = 0.108, acc = 0.971, prec = 0.579, rec = 0.012, F2 = 0.024\n",
            "Validation: loss = 0.108, acc = 0.971, prec = 0.557, rec = 0.013, F2 = 0.026\n",
            "\n",
            "Epoch 13\n",
            "Train: loss = 0.107, acc = 0.971, prec = 0.595, rec = 0.013, F2 = 0.026\n",
            "Validation: loss = 0.107, acc = 0.971, prec = 0.548, rec = 0.015, F2 = 0.028\n",
            "\n",
            "Epoch 14\n",
            "Train: loss = 0.105, acc = 0.971, prec = 0.609, rec = 0.015, F2 = 0.029\n",
            "Validation: loss = 0.106, acc = 0.971, prec = 0.576, rec = 0.012, F2 = 0.023\n",
            "\n",
            "Epoch 15\n",
            "Train: loss = 0.104, acc = 0.971, prec = 0.627, rec = 0.016, F2 = 0.030\n",
            "Validation: loss = 0.105, acc = 0.971, prec = 0.594, rec = 0.016, F2 = 0.030\n",
            "\n",
            "Epoch 16\n",
            "Train: loss = 0.103, acc = 0.971, prec = 0.635, rec = 0.018, F2 = 0.036\n",
            "Validation: loss = 0.103, acc = 0.971, prec = 0.606, rec = 0.021, F2 = 0.040\n",
            "\n",
            "Epoch 17\n",
            "Train: loss = 0.102, acc = 0.971, prec = 0.635, rec = 0.022, F2 = 0.042\n",
            "Validation: loss = 0.102, acc = 0.971, prec = 0.603, rec = 0.022, F2 = 0.042\n",
            "\n",
            "Epoch 18\n",
            "Train: loss = 0.100, acc = 0.971, prec = 0.650, rec = 0.025, F2 = 0.048\n",
            "Validation: loss = 0.101, acc = 0.971, prec = 0.620, rec = 0.025, F2 = 0.048\n",
            "\n",
            "Epoch 19\n",
            "Train: loss = 0.099, acc = 0.971, prec = 0.653, rec = 0.028, F2 = 0.054\n",
            "Validation: loss = 0.100, acc = 0.971, prec = 0.634, rec = 0.026, F2 = 0.049\n",
            "\n",
            "Epoch 20\n",
            "Train: loss = 0.098, acc = 0.971, prec = 0.666, rec = 0.032, F2 = 0.061\n",
            "Validation: loss = 0.099, acc = 0.971, prec = 0.641, rec = 0.029, F2 = 0.055\n",
            "\n",
            "Epoch 21\n",
            "Train: loss = 0.096, acc = 0.971, prec = 0.682, rec = 0.037, F2 = 0.070\n",
            "Validation: loss = 0.097, acc = 0.971, prec = 0.660, rec = 0.035, F2 = 0.067\n",
            "\n",
            "Epoch 22\n",
            "Train: loss = 0.095, acc = 0.971, prec = 0.700, rec = 0.045, F2 = 0.084\n",
            "Validation: loss = 0.096, acc = 0.971, prec = 0.666, rec = 0.043, F2 = 0.081\n",
            "\n",
            "Epoch 23\n",
            "Train: loss = 0.093, acc = 0.971, prec = 0.701, rec = 0.055, F2 = 0.102\n",
            "Validation: loss = 0.095, acc = 0.971, prec = 0.656, rec = 0.060, F2 = 0.110\n",
            "\n",
            "Epoch 24\n",
            "Train: loss = 0.092, acc = 0.972, prec = 0.705, rec = 0.066, F2 = 0.121\n",
            "Validation: loss = 0.094, acc = 0.972, prec = 0.667, rec = 0.067, F2 = 0.122\n",
            "\n",
            "Epoch 25\n",
            "Train: loss = 0.091, acc = 0.972, prec = 0.706, rec = 0.078, F2 = 0.140\n",
            "Validation: loss = 0.093, acc = 0.972, prec = 0.667, rec = 0.077, F2 = 0.138\n",
            "\n",
            "Epoch 26\n",
            "Train: loss = 0.090, acc = 0.972, prec = 0.711, rec = 0.089, F2 = 0.159\n",
            "Validation: loss = 0.092, acc = 0.972, prec = 0.670, rec = 0.086, F2 = 0.152\n",
            "\n",
            "Epoch 27\n",
            "Train: loss = 0.089, acc = 0.972, prec = 0.711, rec = 0.099, F2 = 0.174\n",
            "Validation: loss = 0.091, acc = 0.972, prec = 0.673, rec = 0.098, F2 = 0.171\n",
            "\n",
            "Epoch 28\n",
            "Train: loss = 0.088, acc = 0.972, prec = 0.718, rec = 0.110, F2 = 0.190\n",
            "Validation: loss = 0.091, acc = 0.972, prec = 0.678, rec = 0.103, F2 = 0.179\n",
            "\n",
            "Epoch 29\n",
            "Train: loss = 0.087, acc = 0.973, prec = 0.718, rec = 0.118, F2 = 0.203\n",
            "Validation: loss = 0.090, acc = 0.972, prec = 0.677, rec = 0.111, F2 = 0.191\n",
            "\n",
            "Epoch 30\n",
            "Train: loss = 0.086, acc = 0.973, prec = 0.720, rec = 0.126, F2 = 0.215\n",
            "Validation: loss = 0.090, acc = 0.972, prec = 0.680, rec = 0.115, F2 = 0.197\n",
            "\n",
            "Epoch 31\n",
            "Train: loss = 0.085, acc = 0.973, prec = 0.720, rec = 0.136, F2 = 0.228\n",
            "Validation: loss = 0.089, acc = 0.972, prec = 0.673, rec = 0.122, F2 = 0.206\n",
            "\n",
            "Epoch 32\n",
            "Train: loss = 0.085, acc = 0.973, prec = 0.723, rec = 0.143, F2 = 0.238\n",
            "Validation: loss = 0.089, acc = 0.973, prec = 0.681, rec = 0.133, F2 = 0.223\n",
            "\n",
            "Epoch 33\n",
            "Train: loss = 0.084, acc = 0.973, prec = 0.725, rec = 0.150, F2 = 0.248\n",
            "Validation: loss = 0.088, acc = 0.973, prec = 0.685, rec = 0.137, F2 = 0.229\n",
            "\n",
            "Epoch 34\n",
            "Train: loss = 0.083, acc = 0.973, prec = 0.727, rec = 0.157, F2 = 0.259\n",
            "Validation: loss = 0.088, acc = 0.973, prec = 0.687, rec = 0.144, F2 = 0.238\n",
            "\n",
            "Epoch 35\n",
            "Train: loss = 0.083, acc = 0.974, prec = 0.729, rec = 0.163, F2 = 0.266\n",
            "Validation: loss = 0.088, acc = 0.973, prec = 0.679, rec = 0.150, F2 = 0.246\n",
            "\n",
            "Epoch 36\n",
            "Train: loss = 0.082, acc = 0.974, prec = 0.731, rec = 0.169, F2 = 0.275\n",
            "Validation: loss = 0.087, acc = 0.973, prec = 0.672, rec = 0.158, F2 = 0.256\n",
            "\n",
            "Epoch 37\n",
            "Train: loss = 0.082, acc = 0.974, prec = 0.732, rec = 0.177, F2 = 0.285\n",
            "Validation: loss = 0.087, acc = 0.973, prec = 0.683, rec = 0.159, F2 = 0.257\n",
            "\n",
            "Epoch 38\n",
            "Train: loss = 0.081, acc = 0.974, prec = 0.734, rec = 0.181, F2 = 0.291\n",
            "Validation: loss = 0.087, acc = 0.973, prec = 0.675, rec = 0.167, F2 = 0.267\n",
            "\n",
            "Epoch 39\n",
            "Train: loss = 0.080, acc = 0.974, prec = 0.735, rec = 0.189, F2 = 0.301\n",
            "Validation: loss = 0.086, acc = 0.973, prec = 0.674, rec = 0.168, F2 = 0.269\n",
            "\n",
            "Epoch 40\n",
            "Train: loss = 0.080, acc = 0.974, prec = 0.737, rec = 0.195, F2 = 0.309\n",
            "Validation: loss = 0.086, acc = 0.973, prec = 0.678, rec = 0.171, F2 = 0.273\n",
            "\n",
            "Epoch 41\n",
            "Train: loss = 0.079, acc = 0.974, prec = 0.740, rec = 0.201, F2 = 0.316\n",
            "Validation: loss = 0.086, acc = 0.973, prec = 0.682, rec = 0.175, F2 = 0.279\n",
            "\n",
            "Epoch 42\n",
            "Train: loss = 0.079, acc = 0.974, prec = 0.741, rec = 0.207, F2 = 0.324\n",
            "Validation: loss = 0.086, acc = 0.973, prec = 0.681, rec = 0.182, F2 = 0.287\n",
            "\n",
            "Epoch 43\n",
            "Train: loss = 0.078, acc = 0.975, prec = 0.743, rec = 0.212, F2 = 0.330\n",
            "Validation: loss = 0.085, acc = 0.973, prec = 0.663, rec = 0.192, F2 = 0.298\n",
            "\n",
            "Epoch 44\n",
            "Train: loss = 0.078, acc = 0.975, prec = 0.743, rec = 0.218, F2 = 0.337\n",
            "Validation: loss = 0.085, acc = 0.974, prec = 0.668, rec = 0.194, F2 = 0.301\n",
            "\n",
            "Epoch 45\n",
            "Train: loss = 0.077, acc = 0.975, prec = 0.744, rec = 0.225, F2 = 0.345\n",
            "Validation: loss = 0.085, acc = 0.974, prec = 0.674, rec = 0.195, F2 = 0.303\n",
            "\n",
            "Epoch 46\n",
            "Train: loss = 0.076, acc = 0.975, prec = 0.746, rec = 0.229, F2 = 0.351\n",
            "Validation: loss = 0.085, acc = 0.974, prec = 0.671, rec = 0.201, F2 = 0.310\n",
            "\n",
            "Epoch 47\n",
            "Train: loss = 0.076, acc = 0.975, prec = 0.748, rec = 0.234, F2 = 0.357\n",
            "Validation: loss = 0.085, acc = 0.974, prec = 0.665, rec = 0.211, F2 = 0.321\n",
            "\n",
            "Epoch 48\n",
            "Train: loss = 0.075, acc = 0.975, prec = 0.749, rec = 0.240, F2 = 0.364\n",
            "Validation: loss = 0.084, acc = 0.974, prec = 0.668, rec = 0.211, F2 = 0.321\n",
            "\n",
            "Epoch 49\n",
            "Train: loss = 0.075, acc = 0.975, prec = 0.750, rec = 0.245, F2 = 0.369\n",
            "Validation: loss = 0.084, acc = 0.974, prec = 0.672, rec = 0.211, F2 = 0.321\n",
            "\n",
            "Epoch 50\n",
            "Train: loss = 0.074, acc = 0.975, prec = 0.752, rec = 0.250, F2 = 0.375\n",
            "Validation: loss = 0.084, acc = 0.974, prec = 0.664, rec = 0.221, F2 = 0.332\n",
            "\n",
            "Epoch 51\n",
            "Train: loss = 0.074, acc = 0.976, prec = 0.752, rec = 0.256, F2 = 0.382\n",
            "Validation: loss = 0.084, acc = 0.974, prec = 0.665, rec = 0.220, F2 = 0.331\n",
            "\n",
            "Epoch 52\n",
            "Train: loss = 0.073, acc = 0.976, prec = 0.755, rec = 0.259, F2 = 0.386\n",
            "Validation: loss = 0.084, acc = 0.974, prec = 0.664, rec = 0.224, F2 = 0.335\n",
            "\n",
            "Epoch 53\n"
          ]
        },
        {
          "name": "stdout",
          "output_type": "stream",
          "text": [
            "Train: loss = 0.073, acc = 0.976, prec = 0.756, rec = 0.264, F2 = 0.392\n",
            "Validation: loss = 0.084, acc = 0.974, prec = 0.665, rec = 0.226, F2 = 0.338\n",
            "\n",
            "Epoch 54\n",
            "Train: loss = 0.072, acc = 0.976, prec = 0.757, rec = 0.269, F2 = 0.397\n",
            "Validation: loss = 0.084, acc = 0.974, prec = 0.667, rec = 0.229, F2 = 0.341\n",
            "\n",
            "Epoch 55\n",
            "Train: loss = 0.072, acc = 0.976, prec = 0.760, rec = 0.273, F2 = 0.401\n",
            "Validation: loss = 0.084, acc = 0.974, prec = 0.660, rec = 0.237, F2 = 0.349\n",
            "\n",
            "Epoch 56\n",
            "Train: loss = 0.071, acc = 0.976, prec = 0.761, rec = 0.278, F2 = 0.408\n",
            "Validation: loss = 0.084, acc = 0.974, prec = 0.664, rec = 0.233, F2 = 0.345\n",
            "\n",
            "Epoch 57\n",
            "Train: loss = 0.071, acc = 0.976, prec = 0.762, rec = 0.282, F2 = 0.412\n",
            "Validation: loss = 0.084, acc = 0.974, prec = 0.661, rec = 0.238, F2 = 0.350\n",
            "\n",
            "Epoch 58\n",
            "Train: loss = 0.070, acc = 0.976, prec = 0.766, rec = 0.287, F2 = 0.417\n",
            "Validation: loss = 0.084, acc = 0.974, prec = 0.660, rec = 0.240, F2 = 0.352\n",
            "\n",
            "Epoch 59\n",
            "Train: loss = 0.070, acc = 0.976, prec = 0.767, rec = 0.291, F2 = 0.422\n",
            "Validation: loss = 0.084, acc = 0.974, prec = 0.654, rec = 0.245, F2 = 0.356\n",
            "\n",
            "Epoch 60\n",
            "Train: loss = 0.069, acc = 0.977, prec = 0.769, rec = 0.296, F2 = 0.427\n",
            "Validation: loss = 0.084, acc = 0.974, prec = 0.659, rec = 0.243, F2 = 0.355\n",
            "\n",
            "Epoch 61\n",
            "Train: loss = 0.069, acc = 0.977, prec = 0.770, rec = 0.299, F2 = 0.431\n",
            "Validation: loss = 0.084, acc = 0.974, prec = 0.656, rec = 0.247, F2 = 0.359\n",
            "\n",
            "Epoch 62\n",
            "Train: loss = 0.068, acc = 0.977, prec = 0.773, rec = 0.304, F2 = 0.437\n",
            "Validation: loss = 0.084, acc = 0.974, prec = 0.650, rec = 0.249, F2 = 0.360\n",
            "\n",
            "Epoch 63\n",
            "Train: loss = 0.068, acc = 0.977, prec = 0.774, rec = 0.309, F2 = 0.441\n",
            "Validation: loss = 0.084, acc = 0.974, prec = 0.652, rec = 0.248, F2 = 0.359\n",
            "\n",
            "Epoch 64\n",
            "Train: loss = 0.067, acc = 0.977, prec = 0.777, rec = 0.312, F2 = 0.445\n",
            "Validation: loss = 0.084, acc = 0.974, prec = 0.646, rec = 0.251, F2 = 0.361\n",
            "\n",
            "Epoch 65\n",
            "Train: loss = 0.067, acc = 0.977, prec = 0.779, rec = 0.317, F2 = 0.451\n",
            "Validation: loss = 0.084, acc = 0.974, prec = 0.649, rec = 0.253, F2 = 0.364\n",
            "\n",
            "Epoch 66\n",
            "Train: loss = 0.067, acc = 0.977, prec = 0.780, rec = 0.322, F2 = 0.455\n",
            "Validation: loss = 0.084, acc = 0.974, prec = 0.641, rec = 0.258, F2 = 0.368\n",
            "\n",
            "Epoch 67\n",
            "Train: loss = 0.066, acc = 0.977, prec = 0.782, rec = 0.325, F2 = 0.459\n",
            "Validation: loss = 0.084, acc = 0.974, prec = 0.644, rec = 0.258, F2 = 0.369\n",
            "\n",
            "Epoch 68\n",
            "Train: loss = 0.066, acc = 0.978, prec = 0.783, rec = 0.330, F2 = 0.464\n",
            "Validation: loss = 0.084, acc = 0.974, prec = 0.644, rec = 0.257, F2 = 0.367\n",
            "\n",
            "Epoch 69\n",
            "Train: loss = 0.065, acc = 0.978, prec = 0.786, rec = 0.334, F2 = 0.469\n",
            "Validation: loss = 0.084, acc = 0.974, prec = 0.642, rec = 0.260, F2 = 0.370\n",
            "\n",
            "Epoch 70\n",
            "Train: loss = 0.065, acc = 0.978, prec = 0.787, rec = 0.339, F2 = 0.474\n",
            "Validation: loss = 0.084, acc = 0.974, prec = 0.638, rec = 0.258, F2 = 0.368\n",
            "\n",
            "Epoch 71\n",
            "Train: loss = 0.064, acc = 0.978, prec = 0.791, rec = 0.343, F2 = 0.479\n",
            "Validation: loss = 0.084, acc = 0.974, prec = 0.631, rec = 0.266, F2 = 0.375\n",
            "\n",
            "Epoch 72\n",
            "Train: loss = 0.064, acc = 0.978, prec = 0.791, rec = 0.348, F2 = 0.483\n",
            "Validation: loss = 0.084, acc = 0.974, prec = 0.634, rec = 0.260, F2 = 0.369\n",
            "\n",
            "Epoch 73\n",
            "Train: loss = 0.063, acc = 0.978, prec = 0.793, rec = 0.352, F2 = 0.488\n",
            "Validation: loss = 0.084, acc = 0.974, prec = 0.633, rec = 0.260, F2 = 0.369\n",
            "\n",
            "Epoch 74\n",
            "Train: loss = 0.063, acc = 0.978, prec = 0.795, rec = 0.356, F2 = 0.492\n",
            "Validation: loss = 0.085, acc = 0.974, prec = 0.622, rec = 0.271, F2 = 0.377\n",
            "\n",
            "Epoch 75\n",
            "Train: loss = 0.062, acc = 0.978, prec = 0.797, rec = 0.362, F2 = 0.498\n",
            "Validation: loss = 0.085, acc = 0.974, prec = 0.629, rec = 0.267, F2 = 0.375\n",
            "\n",
            "Epoch 76\n",
            "Train: loss = 0.062, acc = 0.979, prec = 0.799, rec = 0.366, F2 = 0.502\n",
            "Validation: loss = 0.085, acc = 0.974, prec = 0.627, rec = 0.266, F2 = 0.374\n",
            "\n",
            "Epoch 77\n",
            "Train: loss = 0.061, acc = 0.979, prec = 0.802, rec = 0.370, F2 = 0.506\n",
            "Validation: loss = 0.085, acc = 0.974, prec = 0.621, rec = 0.272, F2 = 0.378\n",
            "\n",
            "Epoch 78\n",
            "Train: loss = 0.061, acc = 0.979, prec = 0.803, rec = 0.375, F2 = 0.512\n",
            "Validation: loss = 0.085, acc = 0.974, prec = 0.616, rec = 0.271, F2 = 0.377\n",
            "\n",
            "Epoch 79\n",
            "Train: loss = 0.060, acc = 0.979, prec = 0.804, rec = 0.379, F2 = 0.516\n",
            "Validation: loss = 0.085, acc = 0.974, prec = 0.622, rec = 0.271, F2 = 0.377\n",
            "\n",
            "Epoch 80\n",
            "Train: loss = 0.060, acc = 0.979, prec = 0.808, rec = 0.384, F2 = 0.520\n",
            "Validation: loss = 0.085, acc = 0.974, prec = 0.619, rec = 0.271, F2 = 0.377\n",
            "\n",
            "Epoch 81\n",
            "Train: loss = 0.059, acc = 0.979, prec = 0.809, rec = 0.389, F2 = 0.526\n",
            "Validation: loss = 0.086, acc = 0.974, prec = 0.615, rec = 0.275, F2 = 0.380\n",
            "\n",
            "Epoch 82\n",
            "Train: loss = 0.059, acc = 0.979, prec = 0.812, rec = 0.394, F2 = 0.530\n",
            "Validation: loss = 0.086, acc = 0.974, prec = 0.612, rec = 0.278, F2 = 0.382\n",
            "\n",
            "Epoch 83\n",
            "Train: loss = 0.058, acc = 0.980, prec = 0.813, rec = 0.399, F2 = 0.535\n",
            "Validation: loss = 0.086, acc = 0.974, prec = 0.615, rec = 0.280, F2 = 0.385\n",
            "\n",
            "Epoch 84\n",
            "Train: loss = 0.058, acc = 0.980, prec = 0.815, rec = 0.403, F2 = 0.539\n",
            "Validation: loss = 0.086, acc = 0.974, prec = 0.610, rec = 0.279, F2 = 0.383\n",
            "\n",
            "Epoch 85\n",
            "Train: loss = 0.057, acc = 0.980, prec = 0.817, rec = 0.409, F2 = 0.545\n",
            "Validation: loss = 0.086, acc = 0.974, prec = 0.613, rec = 0.277, F2 = 0.381\n",
            "\n",
            "Epoch 86\n",
            "Train: loss = 0.057, acc = 0.980, prec = 0.820, rec = 0.413, F2 = 0.549\n",
            "Validation: loss = 0.087, acc = 0.974, prec = 0.610, rec = 0.279, F2 = 0.383\n",
            "\n",
            "Epoch 87\n",
            "Train: loss = 0.056, acc = 0.980, prec = 0.822, rec = 0.418, F2 = 0.554\n",
            "Validation: loss = 0.087, acc = 0.974, prec = 0.608, rec = 0.280, F2 = 0.384\n",
            "\n",
            "Epoch 88\n",
            "Train: loss = 0.056, acc = 0.980, prec = 0.822, rec = 0.422, F2 = 0.558\n",
            "Validation: loss = 0.087, acc = 0.974, prec = 0.608, rec = 0.284, F2 = 0.387\n",
            "\n",
            "Epoch 89\n",
            "Train: loss = 0.055, acc = 0.980, prec = 0.825, rec = 0.426, F2 = 0.562\n",
            "Validation: loss = 0.087, acc = 0.973, prec = 0.600, rec = 0.285, F2 = 0.387\n",
            "\n",
            "Epoch 90\n",
            "Train: loss = 0.055, acc = 0.981, prec = 0.827, rec = 0.433, F2 = 0.568\n",
            "Validation: loss = 0.087, acc = 0.974, prec = 0.603, rec = 0.287, F2 = 0.389\n",
            "\n",
            "Epoch 91\n",
            "Train: loss = 0.054, acc = 0.981, prec = 0.829, rec = 0.437, F2 = 0.573\n",
            "Validation: loss = 0.088, acc = 0.973, prec = 0.602, rec = 0.285, F2 = 0.387\n",
            "\n",
            "Epoch 92\n",
            "Train: loss = 0.054, acc = 0.981, prec = 0.831, rec = 0.443, F2 = 0.578\n",
            "Validation: loss = 0.088, acc = 0.973, prec = 0.598, rec = 0.289, F2 = 0.389\n",
            "\n",
            "Epoch 93\n",
            "Train: loss = 0.053, acc = 0.981, prec = 0.832, rec = 0.448, F2 = 0.582\n",
            "Validation: loss = 0.088, acc = 0.973, prec = 0.598, rec = 0.289, F2 = 0.390\n",
            "\n",
            "Epoch 94\n",
            "Train: loss = 0.053, acc = 0.981, prec = 0.836, rec = 0.451, F2 = 0.586\n",
            "Validation: loss = 0.088, acc = 0.973, prec = 0.590, rec = 0.290, F2 = 0.389\n",
            "\n",
            "Epoch 95\n",
            "Train: loss = 0.052, acc = 0.981, prec = 0.837, rec = 0.457, F2 = 0.591\n",
            "Validation: loss = 0.089, acc = 0.973, prec = 0.593, rec = 0.288, F2 = 0.388\n",
            "\n",
            "Epoch 96\n",
            "Train: loss = 0.052, acc = 0.982, prec = 0.839, rec = 0.463, F2 = 0.596\n",
            "Validation: loss = 0.089, acc = 0.973, prec = 0.594, rec = 0.288, F2 = 0.388\n",
            "\n",
            "Epoch 97\n",
            "Train: loss = 0.051, acc = 0.982, prec = 0.842, rec = 0.467, F2 = 0.601\n",
            "Validation: loss = 0.089, acc = 0.973, prec = 0.588, rec = 0.295, F2 = 0.393\n",
            "\n",
            "Epoch 98\n",
            "Train: loss = 0.051, acc = 0.982, prec = 0.844, rec = 0.472, F2 = 0.605\n",
            "Validation: loss = 0.090, acc = 0.973, prec = 0.584, rec = 0.295, F2 = 0.392\n",
            "\n",
            "Epoch 99\n",
            "Train: loss = 0.050, acc = 0.982, prec = 0.845, rec = 0.478, F2 = 0.610\n",
            "Validation: loss = 0.090, acc = 0.973, prec = 0.584, rec = 0.293, F2 = 0.391\n",
            "\n",
            "Epoch 100\n",
            "Train: loss = 0.050, acc = 0.982, prec = 0.849, rec = 0.483, F2 = 0.616\n",
            "Validation: loss = 0.090, acc = 0.973, prec = 0.580, rec = 0.294, F2 = 0.390\n",
            "\n"
          ]
        }
      ],
      "source": [
        "BATCH_SIZE = 2048\n",
        "HIDDEN_IN = 1024\n",
        "HIDDEN_OUT = 512\n",
        "EPOCHS = 100\n",
        "LEARNING_RATE = 5e-4\n",
        "\n",
        "train_dataset = AbstractsDataset(X_train, y_train, BATCH_SIZE)\n",
        "test_dataset = AbstractsDataset(X_test, y_test, BATCH_SIZE)\n",
        "\n",
        "# choose device and initialize model\n",
        "device = torch.device('cuda' if torch.cuda.is_available() else 'cpu')\n",
        "model = Model(\n",
        "    num_features=X.shape[1],\n",
        "    num_labels=y.shape[1],\n",
        "    shape_hidden=(HIDDEN_IN, HIDDEN_OUT)\n",
        ")\n",
        "model = model.to(device)\n",
        "\n",
        "# train model\n",
        "train_losses, val_losses, train_metrics, val_metrics = train(\n",
        "    model=model,\n",
        "    train_dataset=train_dataset,\n",
        "    val_dataset=test_dataset,\n",
        "    device=device,\n",
        "    epochs=EPOCHS,\n",
        "    lr=LEARNING_RATE\n",
        ")"
      ]
    },
    {
      "cell_type": "code",
      "execution_count": null,
      "metadata": {
        "id": "tyiu0qiw9QwH",
        "outputId": "f0035de3-0ffa-42f7-e2e1-0b26f3f8412a"
      },
      "outputs": [
        {
          "data": {
            "image/png": "[encoded data removed]",
            "text/plain": [
              "<Figure size 432x288 with 1 Axes>"
            ]
          },
          "metadata": {
            "needs_background": "light"
          },
          "output_type": "display_data"
        },
        {
          "data": {
            "image/png": "[encoded data removed]",
            "text/plain": [
              "<Figure size 432x288 with 1 Axes>"
            ]
          },
          "metadata": {
            "needs_background": "light"
          },
          "output_type": "display_data"
        },
        {
          "data": {
            "image/png": "[encoded data removed]",
            "text/plain": [
              "<Figure size 432x288 with 1 Axes>"
            ]
          },
          "metadata": {
            "needs_background": "light"
          },
          "output_type": "display_data"
        },
        {
          "data": {
            "image/png": "[encoded data removed]",
            "text/plain": [
              "<Figure size 432x288 with 1 Axes>"
            ]
          },
          "metadata": {
            "needs_background": "light"
          },
          "output_type": "display_data"
        },
        {
          "data": {
            "image/png": "[encoded data removed]",
            "text/plain": [
              "<Figure size 432x288 with 1 Axes>"
            ]
          },
          "metadata": {
            "needs_background": "light"
          },
          "output_type": "display_data"
        }
      ],
      "source": [
        "plt.close('all')\n",
        "_, ax1 = plt.subplots()\n",
        "ax1 = plot_results(ax1, train_losses, val_losses, 'Loss')\n",
        "_, ax2 = plt.subplots()\n",
        "ax2 = plot_results(ax2, train_metrics.accuracy, val_metrics.accuracy, 'Accuracy')\n",
        "_, ax3 = plt.subplots()\n",
        "ax3 = plot_results(ax3, train_metrics.precision, val_metrics.precision, 'Precision')\n",
        "_, ax4 = plt.subplots()\n",
        "ax4 = plot_results(ax4, train_metrics.recall, val_metrics.recall, 'Recall')\n",
        "_, ax5 = plt.subplots()\n",
        "ax5 = plot_results(ax5, train_metrics.F2, val_metrics.F2, 'F2')\n",
        "plt.show()"
      ]
    },
    {
      "cell_type": "markdown",
      "metadata": {
        "id": "-sl75IqT9QwH"
      },
      "source": [
        "Здесь метрики тоже быстро растут, но recall и F2 score достигают значительно меньших значений, чем в `top5`, что означает, что модель чаще выдает в качестве ключевых слов те, которых не было в собранных данных. Но поскольку precision достаточно высокий, можно говорить о том, что те ключевые слова, которые там были, модель тоже предсказывает неплохо."
      ]
    },
    {
      "cell_type": "code",
      "execution_count": null,
      "metadata": {
        "id": "-sS0HaSu9QwH"
      },
      "outputs": [],
      "source": [
        ""
      ]
    }
  ],
  "metadata": {
    "interpreter": {
      "hash": "49448eeb8252ad14269e9870f41be38726e4e73e71663eea00cd1e0ba3be12df"
    },
    "kernelspec": {
      "display_name": "Python 3 (ipykernel)",
      "language": "python",
      "name": "python3"
    },
    "language_info": {
      "codemirror_mode": {
        "name": "ipython",
        "version": 3
      },
      "file_extension": ".py",
      "mimetype": "text/x-python",
      "name": "python",
      "nbconvert_exporter": "python",
      "pygments_lexer": "ipython3",
      "version": "3.9.7"
    },
    "colab": {
      "name": "pipeline.ipynb",
      "provenance": [],
      "collapsed_sections": []
    }
  },
  "nbformat": 4,
  "nbformat_minor": 0
}