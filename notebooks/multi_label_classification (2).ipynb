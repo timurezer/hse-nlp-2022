{
 "cells": [
  {
   "cell_type": "markdown",
   "metadata": {
    "id": "Bg-XAKDpXkGy"
   },
   "source": [
    "# Multi-label классификация по ключевым словам\n"
   ]
  },
  {
   "cell_type": "markdown",
   "metadata": {
    "id": "Cxixp_M_XkG5"
   },
   "source": [
    "## Импорты"
   ]
  },
  {
   "cell_type": "code",
   "execution_count": 17,
   "metadata": {
    "executionInfo": {
     "elapsed": 228,
     "status": "ok",
     "timestamp": 1647992334027,
     "user": {
      "displayName": "Timur Khabibullin",
      "photoUrl": "https://lh3.googleusercontent.com/a-/AOh14GhOK0kcrUXUwPQDbjACA0rItmrC9sTNoFqjgi6gFg=s64",
      "userId": "18246770792160690538"
     },
     "user_tz": -180
    },
    "id": "0QLb8FNMXkG6"
   },
   "outputs": [],
   "source": [
    "import os\n",
    "from tensorflow.keras import layers\n",
    "from tensorflow import keras\n",
    "import tensorflow as tf\n",
    "\n",
    "from sklearn.model_selection import train_test_split\n",
    "from ast import literal_eval\n",
    "\n",
    "import matplotlib.pyplot as plt\n",
    "import pandas as pd\n",
    "import numpy as np"
   ]
  },
  {
   "cell_type": "code",
   "execution_count": 18,
   "metadata": {},
   "outputs": [
    {
     "data": {
      "text/plain": [
       "'/home/margarita/github/hse-nlp-2022/data/processed'"
      ]
     },
     "execution_count": 18,
     "metadata": {},
     "output_type": "execute_result"
    }
   ],
   "source": [
    "ROOT_DIR = os.path.split(os.getcwd())[0]\n",
    "DATA_DIR = os.path.join(ROOT_DIR, 'data', 'processed')\n",
    "DATA_DIR\n"
   ]
  },
  {
   "cell_type": "markdown",
   "metadata": {
    "colab": {
     "base_uri": "https://localhost:8080/"
    },
    "executionInfo": {
     "elapsed": 2339,
     "status": "ok",
     "timestamp": 1647992336600,
     "user": {
      "displayName": "Timur Khabibullin",
      "photoUrl": "https://lh3.googleusercontent.com/a-/AOh14GhOK0kcrUXUwPQDbjACA0rItmrC9sTNoFqjgi6gFg=s64",
      "userId": "18246770792160690538"
     },
     "user_tz": -180
    },
    "id": "lN7oYnsKt8q1",
    "outputId": "cdf52d13-013a-4c3e-f2a0-41d7c020b28e"
   },
   "source": [
    "from google.colab import drive\n",
    "drive.mount('/content/drive')"
   ]
  },
  {
   "cell_type": "markdown",
   "metadata": {
    "id": "Y9ZLifBcXkG7"
   },
   "source": [
    "## Предварительная работа с данными\n",
    "Загрузим предобработанный датасет в датафрейм `pandas`. Из абстрактов были предварительно удалены знаки препинания, сам текст переведен в lower case."
   ]
  },
  {
   "cell_type": "code",
   "execution_count": 19,
   "metadata": {
    "colab": {
     "base_uri": "https://localhost:8080/",
     "height": 202
    },
    "executionInfo": {
     "elapsed": 1350,
     "status": "ok",
     "timestamp": 1647992337944,
     "user": {
      "displayName": "Timur Khabibullin",
      "photoUrl": "https://lh3.googleusercontent.com/a-/AOh14GhOK0kcrUXUwPQDbjACA0rItmrC9sTNoFqjgi6gFg=s64",
      "userId": "18246770792160690538"
     },
     "user_tz": -180
    },
    "id": "fSEY9n18XkG8",
    "outputId": "2ba2cb91-160d-4e0d-b1b2-0da743964a89"
   },
   "outputs": [
    {
     "data": {
      "text/html": [
       "<div>\n",
       "<style scoped>\n",
       "    .dataframe tbody tr th:only-of-type {\n",
       "        vertical-align: middle;\n",
       "    }\n",
       "\n",
       "    .dataframe tbody tr th {\n",
       "        vertical-align: top;\n",
       "    }\n",
       "\n",
       "    .dataframe thead th {\n",
       "        text-align: right;\n",
       "    }\n",
       "</style>\n",
       "<table border=\"1\" class=\"dataframe\">\n",
       "  <thead>\n",
       "    <tr style=\"text-align: right;\">\n",
       "      <th></th>\n",
       "      <th>journal</th>\n",
       "      <th>DOI</th>\n",
       "      <th>abstract</th>\n",
       "      <th>keywords</th>\n",
       "    </tr>\n",
       "  </thead>\n",
       "  <tbody>\n",
       "    <tr>\n",
       "      <th>0</th>\n",
       "      <td>ieee-proc</td>\n",
       "      <td>10.1109/JPROC.2013.2257631</td>\n",
       "      <td>the wireless sensor network wsn technology spa...</td>\n",
       "      <td>['Control systems']</td>\n",
       "    </tr>\n",
       "    <tr>\n",
       "      <th>1</th>\n",
       "      <td>ieee-proc</td>\n",
       "      <td>10.1109/JPROC.2010.2064151</td>\n",
       "      <td>owing in part to complementary metaloxidesemic...</td>\n",
       "      <td>['Logic gates']</td>\n",
       "    </tr>\n",
       "    <tr>\n",
       "      <th>2</th>\n",
       "      <td>ieee-proc</td>\n",
       "      <td>10.1109/JPROC.2010.2065211</td>\n",
       "      <td>semiconductor nanowires have attracted conside...</td>\n",
       "      <td>['Silicon']</td>\n",
       "    </tr>\n",
       "    <tr>\n",
       "      <th>3</th>\n",
       "      <td>ieee-proc</td>\n",
       "      <td>10.1109/JPROC.2010.2063411</td>\n",
       "      <td>power density has grown to be the dominant cha...</td>\n",
       "      <td>['Logic gates']</td>\n",
       "    </tr>\n",
       "    <tr>\n",
       "      <th>4</th>\n",
       "      <td>ieee-proc</td>\n",
       "      <td>10.1109/JPROC.2010.2070470</td>\n",
       "      <td>steep subthreshold swing transistors based on ...</td>\n",
       "      <td>['Logic gates']</td>\n",
       "    </tr>\n",
       "  </tbody>\n",
       "</table>\n",
       "</div>"
      ],
      "text/plain": [
       "     journal                         DOI  \\\n",
       "0  ieee-proc  10.1109/JPROC.2013.2257631   \n",
       "1  ieee-proc  10.1109/JPROC.2010.2064151   \n",
       "2  ieee-proc  10.1109/JPROC.2010.2065211   \n",
       "3  ieee-proc  10.1109/JPROC.2010.2063411   \n",
       "4  ieee-proc  10.1109/JPROC.2010.2070470   \n",
       "\n",
       "                                            abstract             keywords  \n",
       "0  the wireless sensor network wsn technology spa...  ['Control systems']  \n",
       "1  owing in part to complementary metaloxidesemic...      ['Logic gates']  \n",
       "2  semiconductor nanowires have attracted conside...          ['Silicon']  \n",
       "3  power density has grown to be the dominant cha...      ['Logic gates']  \n",
       "4  steep subthreshold swing transistors based on ...      ['Logic gates']  "
      ]
     },
     "execution_count": 19,
     "metadata": {},
     "output_type": "execute_result"
    }
   ],
   "source": [
    "fname = os.path.join(DATA_DIR, 'top5.csv')\n",
    "data = pd.read_csv(fname, sep=',', quotechar='\"', encoding='utf-8', engine='python')\n",
    "data.head()"
   ]
  },
  {
   "cell_type": "markdown",
   "metadata": {
    "id": "dGnTBdNcXkG9"
   },
   "source": [
    "В качестве текстовых фичей мы используем абстракты `abstract`, в качестве лейблов - клчевые слова `keywords`, указанные в соответствующих статьях.\n"
   ]
  },
  {
   "cell_type": "code",
   "execution_count": 20,
   "metadata": {
    "colab": {
     "base_uri": "https://localhost:8080/"
    },
    "executionInfo": {
     "elapsed": 15,
     "status": "ok",
     "timestamp": 1647992337945,
     "user": {
      "displayName": "Timur Khabibullin",
      "photoUrl": "https://lh3.googleusercontent.com/a-/AOh14GhOK0kcrUXUwPQDbjACA0rItmrC9sTNoFqjgi6gFg=s64",
      "userId": "18246770792160690538"
     },
     "user_tz": -180
    },
    "id": "rBYCA3VlXkG-",
    "outputId": "b5dee20c-fb99-42c1-9395-9c31e2873dd9"
   },
   "outputs": [
    {
     "name": "stdout",
     "output_type": "stream",
     "text": [
      "Количество статей: 17162\n"
     ]
    }
   ],
   "source": [
    "print(f\"Количество статей: {len(data)}\")"
   ]
  },
  {
   "cell_type": "markdown",
   "metadata": {
    "id": "neWiOMf6XkHF"
   },
   "source": [
    "Приведем лейблы к более удобному формату:"
   ]
  },
  {
   "cell_type": "code",
   "execution_count": 21,
   "metadata": {
    "colab": {
     "base_uri": "https://localhost:8080/"
    },
    "executionInfo": {
     "elapsed": 909,
     "status": "ok",
     "timestamp": 1647992338846,
     "user": {
      "displayName": "Timur Khabibullin",
      "photoUrl": "https://lh3.googleusercontent.com/a-/AOh14GhOK0kcrUXUwPQDbjACA0rItmrC9sTNoFqjgi6gFg=s64",
      "userId": "18246770792160690538"
     },
     "user_tz": -180
    },
    "id": "JpzIc6YIXkHG",
    "outputId": "6003088e-7113-4a0d-dbf6-50ea462fb999"
   },
   "outputs": [
    {
     "data": {
      "text/plain": [
       "array([list(['Control systems']), list(['Logic gates']),\n",
       "       list(['Silicon']), list(['Logic gates']), list(['Logic gates'])],\n",
       "      dtype=object)"
      ]
     },
     "execution_count": 21,
     "metadata": {},
     "output_type": "execute_result"
    }
   ],
   "source": [
    "data[\"keywords\"] = data[\"keywords\"].apply(\n",
    "    lambda x: literal_eval(x)\n",
    ")\n",
    "data[\"keywords\"].values[:5]"
   ]
  },
  {
   "cell_type": "markdown",
   "metadata": {
    "id": "8AGpOAiqXkHG"
   },
   "source": [
    "Разобьем данные на тестовую, валидационную и тренировочную выборки."
   ]
  },
  {
   "cell_type": "code",
   "execution_count": 22,
   "metadata": {
    "colab": {
     "base_uri": "https://localhost:8080/"
    },
    "executionInfo": {
     "elapsed": 9,
     "status": "ok",
     "timestamp": 1647992338847,
     "user": {
      "displayName": "Timur Khabibullin",
      "photoUrl": "https://lh3.googleusercontent.com/a-/AOh14GhOK0kcrUXUwPQDbjACA0rItmrC9sTNoFqjgi6gFg=s64",
      "userId": "18246770792160690538"
     },
     "user_tz": -180
    },
    "id": "N_-7y_ZEXkHH",
    "outputId": "0f130410-eb66-423d-bdab-d3580cba723f"
   },
   "outputs": [
    {
     "name": "stdout",
     "output_type": "stream",
     "text": [
      "Статей в тренировочной выборке: 15445\n",
      "Статей в валидационной выборке: 858\n",
      "Статей в тестовой выборке: 859\n"
     ]
    },
    {
     "name": "stderr",
     "output_type": "stream",
     "text": [
      "/home/margarita/anaconda3/lib/python3.9/site-packages/pandas/core/frame.py:4906: SettingWithCopyWarning: \n",
      "A value is trying to be set on a copy of a slice from a DataFrame\n",
      "\n",
      "See the caveats in the documentation: https://pandas.pydata.org/pandas-docs/stable/user_guide/indexing.html#returning-a-view-versus-a-copy\n",
      "  return super().drop(\n"
     ]
    }
   ],
   "source": [
    "test_split = 0.1\n",
    "\n",
    "train_df, test_df = train_test_split(\n",
    "    data,\n",
    "    test_size=test_split,\n",
    ")\n",
    "\n",
    "val_df = test_df.sample(frac=0.5)\n",
    "test_df.drop(val_df.index, inplace=True)\n",
    "\n",
    "print(f\"Статей в тренировочной выборке: {len(train_df)}\")\n",
    "print(f\"Статей в валидационной выборке: {len(val_df)}\")\n",
    "print(f\"Статей в тестовой выборке: {len(test_df)}\")"
   ]
  },
  {
   "cell_type": "markdown",
   "metadata": {
    "id": "HN9kvaK6XkHI"
   },
   "source": [
    "## Создание словаря и one-hot encoding\n",
    "\n",
    "Используя слой `StringLookUp`, получим словарь из ключевых слов и закодируем их."
   ]
  },
  {
   "cell_type": "code",
   "execution_count": 23,
   "metadata": {
    "colab": {
     "base_uri": "https://localhost:8080/"
    },
    "executionInfo": {
     "elapsed": 2653,
     "status": "ok",
     "timestamp": 1647992341495,
     "user": {
      "displayName": "Timur Khabibullin",
      "photoUrl": "https://lh3.googleusercontent.com/a-/AOh14GhOK0kcrUXUwPQDbjACA0rItmrC9sTNoFqjgi6gFg=s64",
      "userId": "18246770792160690538"
     },
     "user_tz": -180
    },
    "id": "uVhVbe6nXkHJ",
    "outputId": "ea343d7a-6a65-4145-8134-d6872bca0b07"
   },
   "outputs": [
    {
     "name": "stdout",
     "output_type": "stream",
     "text": [
      "Словарь:\n",
      "\n",
      "['[UNK]', 'Control systems', 'Logic gates', 'Equations', 'Silicon', 'Linear systems']\n",
      "\n",
      "Пример закодированного вектора:\n",
      "\n",
      "[1. 0. 0. 0. 0. 0.]\n"
     ]
    }
   ],
   "source": [
    "terms = tf.ragged.constant(train_df[\"keywords\"].values)\n",
    "lookup = tf.keras.layers.StringLookup(output_mode=\"multi_hot\")\n",
    "lookup.adapt(terms)\n",
    "vocab = lookup.get_vocabulary()\n",
    "\n",
    "\n",
    "def invert_multi_hot(encoded_labels):\n",
    "    hot_indices = np.argwhere(encoded_labels == 1.0)[..., 0]\n",
    "    return np.take(vocab, hot_indices)\n",
    "\n",
    "\n",
    "print(\"Словарь:\\n\")\n",
    "print(vocab)\n",
    "print()\n",
    "example = tf.ragged.constant(vocab)[0]\n",
    "print(\"Пример закодированного вектора:\\n\")\n",
    "print(lookup(example).numpy())"
   ]
  },
  {
   "cell_type": "markdown",
   "metadata": {
    "id": "qK7R12iIXkHL"
   },
   "source": [
    "## Сбор итогового датасета\n",
    "\n",
    "Для дальнейшего обучения будет полезно посмотреть на характеристики абстрактов, возможно, это поможет в обучении."
   ]
  },
  {
   "cell_type": "code",
   "execution_count": 24,
   "metadata": {
    "colab": {
     "base_uri": "https://localhost:8080/"
    },
    "executionInfo": {
     "elapsed": 472,
     "status": "ok",
     "timestamp": 1647992341963,
     "user": {
      "displayName": "Timur Khabibullin",
      "photoUrl": "https://lh3.googleusercontent.com/a-/AOh14GhOK0kcrUXUwPQDbjACA0rItmrC9sTNoFqjgi6gFg=s64",
      "userId": "18246770792160690538"
     },
     "user_tz": -180
    },
    "id": "jE_32GiuXkHM",
    "outputId": "b1b4bb6d-e19f-40f5-ca80-8b6bc0d71dfb"
   },
   "outputs": [
    {
     "data": {
      "text/plain": [
       "count    15445.000000\n",
       "mean       111.627452\n",
       "std         55.757933\n",
       "min          2.000000\n",
       "25%         68.000000\n",
       "50%        105.000000\n",
       "75%        148.000000\n",
       "max        390.000000\n",
       "Name: abstract, dtype: float64"
      ]
     },
     "execution_count": 24,
     "metadata": {},
     "output_type": "execute_result"
    }
   ],
   "source": [
    "train_df[\"abstract\"].apply(lambda x: len(x.split(\" \"))).describe()"
   ]
  },
  {
   "cell_type": "markdown",
   "metadata": {},
   "source": [
    "Соберем датасет, состоящий из абстрактов и one-hot векторов, представляющих ключевые слова."
   ]
  },
  {
   "cell_type": "code",
   "execution_count": 25,
   "metadata": {
    "executionInfo": {
     "elapsed": 7,
     "status": "ok",
     "timestamp": 1647992341964,
     "user": {
      "displayName": "Timur Khabibullin",
      "photoUrl": "https://lh3.googleusercontent.com/a-/AOh14GhOK0kcrUXUwPQDbjACA0rItmrC9sTNoFqjgi6gFg=s64",
      "userId": "18246770792160690538"
     },
     "user_tz": -180
    },
    "id": "lgHUrKgJXkHM"
   },
   "outputs": [],
   "source": [
    "batch_size = 128\n",
    "padding_token = \"<pad>\"\n",
    "auto = tf.data.AUTOTUNE\n",
    "\n",
    "\n",
    "def make_dataset(dataframe, is_train=True):\n",
    "    labels = tf.ragged.constant(dataframe[\"keywords\"].values)\n",
    "    label_binarized = lookup(labels).numpy()\n",
    "    dataset = tf.data.Dataset.from_tensor_slices(\n",
    "        (dataframe[\"abstract\"].values, label_binarized)\n",
    "    )\n",
    "    dataset = dataset.shuffle(batch_size * 10) if is_train else dataset\n",
    "    return dataset.batch(batch_size)\n"
   ]
  },
  {
   "cell_type": "code",
   "execution_count": 26,
   "metadata": {
    "executionInfo": {
     "elapsed": 342,
     "status": "ok",
     "timestamp": 1647992342300,
     "user": {
      "displayName": "Timur Khabibullin",
      "photoUrl": "https://lh3.googleusercontent.com/a-/AOh14GhOK0kcrUXUwPQDbjACA0rItmrC9sTNoFqjgi6gFg=s64",
      "userId": "18246770792160690538"
     },
     "user_tz": -180
    },
    "id": "bgTuYc7kXkHN"
   },
   "outputs": [],
   "source": [
    "train_dataset = make_dataset(train_df, is_train=True)\n",
    "validation_dataset = make_dataset(val_df, is_train=False)\n",
    "test_dataset = make_dataset(test_df, is_train=False)"
   ]
  },
  {
   "cell_type": "markdown",
   "metadata": {
    "id": "hoCSNRvVXkHO"
   },
   "source": [
    "Выведем некоторые примеры из этого датасета:"
   ]
  },
  {
   "cell_type": "code",
   "execution_count": 27,
   "metadata": {
    "colab": {
     "base_uri": "https://localhost:8080/"
    },
    "executionInfo": {
     "elapsed": 6,
     "status": "ok",
     "timestamp": 1647992342301,
     "user": {
      "displayName": "Timur Khabibullin",
      "photoUrl": "https://lh3.googleusercontent.com/a-/AOh14GhOK0kcrUXUwPQDbjACA0rItmrC9sTNoFqjgi6gFg=s64",
      "userId": "18246770792160690538"
     },
     "user_tz": -180
    },
    "id": "AAQyEJjZXkHO",
    "outputId": "29121cf1-d406-42c0-afb4-2847ac45114b"
   },
   "outputs": [
    {
     "name": "stdout",
     "output_type": "stream",
     "text": [
      "Abstract: b'the problem of estimation for a class of distributed parameter systems is approached via maximum principle as a consequence the advantages of the optimal control point of view for tackling the estimation problem for distributed parameter systems are indicated'\n",
      "Label(s): ['Equations']\n",
      " \n",
      "Abstract: b'an exponential function of a gaussmarkov process is used here as an example to show the nonexistence of a continuous joint maxlikelihood smoothing estimate over the interval t '\n",
      "Label(s): ['Linear systems']\n",
      " \n",
      "Abstract: b'the condition under which it is possible to find a single controller that stabilizes k singleinput singleoutput linear timeinvariant systems psub is i  k is investigated the concept of avoidance in the complex plane is introduced and used to derive a sufficient condition for k systems to be simultaneously stabilizable a method for constructing a simultaneous stabilizing controller is also provided and is illustrated by an example '\n",
      "Label(s): ['Control systems']\n",
      " \n",
      "Abstract: b'the article puts forward an eventtriggered controller with continuoustime       induced norm performance guarantees the sampling rate of the proposed controller never exceeds that of the optimal periodic sampleddata controller for the same performance level the proposed eventtriggered controller yields actually slower sampling than that in the optimal periodic case unless certain internal signal belongs to a class of worstcase analogue signals the class of such signals termed  spoilers  is exhaustively characterized and shown to be atypical'\n",
      "Label(s): ['Linear systems']\n",
      " \n",
      "Abstract: b'unlike nanoscale silicon transistors printed thinfilm transistors usually rely on micrometer size channel lengths the device dimensions the morphology of the channel material and the interface properties strongly influence important device parameters such as the threshold voltage  v  th  and the transconductance parameter  k in this article we analyze and model the dependence of critical electrical device properties of printed electrolytegated transistors based on crystalline indium oxide channel for various device geometries it is shown that the threshold voltage scales with the charge density at the electrolyte channel interface and is hence linearly dependent on the channel length  l furthermore nonlinear scaling effects in the transconductance parameter and in the oncurrent are studied which turn out to be dependent on both channel width and length finally we present a scaling model capturing the widthlength dependencies of the studied transistor technology which enables the correct simulation of logic gates'\n",
      "Label(s): ['Logic gates']\n",
      " \n"
     ]
    }
   ],
   "source": [
    "text_batch, label_batch = next(iter(train_dataset))\n",
    "\n",
    "for i, text in enumerate(text_batch[:5]):\n",
    "    label = label_batch[i].numpy()[None, ...]\n",
    "    print(f\"Abstract: {text}\")\n",
    "    print(f\"Label(s): {invert_multi_hot(label[0])}\")\n",
    "    print(\" \")"
   ]
  },
  {
   "cell_type": "markdown",
   "metadata": {
    "id": "9goj0wPCXkHP"
   },
   "source": [
    "## Векторизация текста\n",
    "Посмотрим, насколько большим будет словарь, полученный из абстрактов.\n"
   ]
  },
  {
   "cell_type": "code",
   "execution_count": 28,
   "metadata": {
    "colab": {
     "base_uri": "https://localhost:8080/"
    },
    "executionInfo": {
     "elapsed": 735,
     "status": "ok",
     "timestamp": 1647992343032,
     "user": {
      "displayName": "Timur Khabibullin",
      "photoUrl": "https://lh3.googleusercontent.com/a-/AOh14GhOK0kcrUXUwPQDbjACA0rItmrC9sTNoFqjgi6gFg=s64",
      "userId": "18246770792160690538"
     },
     "user_tz": -180
    },
    "id": "VTryJV38XkHP",
    "outputId": "8ebc1163-fde6-4950-c700-2c4b9fe76a72"
   },
   "outputs": [
    {
     "name": "stdout",
     "output_type": "stream",
     "text": [
      "Размер словаря: 36617\n"
     ]
    }
   ],
   "source": [
    "vocabulary = set()\n",
    "train_df[\"abstract\"].str.split().apply(vocabulary.update)\n",
    "vocabulary_size = len(vocabulary)\n",
    "print(\"Размер словаря:\", vocabulary_size)"
   ]
  },
  {
   "cell_type": "markdown",
   "metadata": {},
   "source": [
    "\n",
    "Для того, чтобы модель могла работать с нашими текстами, нужно конвертировать информацию в числа. Для этого воспользуемся готовым слоем `TextVectorization`. Сначала этот слой разобьет тест на биграммы, потом выдаст представления, используя `TF-IDF`."
   ]
  },
  {
   "cell_type": "code",
   "execution_count": 29,
   "metadata": {
    "executionInfo": {
     "elapsed": 10630,
     "status": "ok",
     "timestamp": 1647992353659,
     "user": {
      "displayName": "Timur Khabibullin",
      "photoUrl": "https://lh3.googleusercontent.com/a-/AOh14GhOK0kcrUXUwPQDbjACA0rItmrC9sTNoFqjgi6gFg=s64",
      "userId": "18246770792160690538"
     },
     "user_tz": -180
    },
    "id": "ofKh3IxqXkHP"
   },
   "outputs": [],
   "source": [
    "text_vectorizer = layers.TextVectorization(\n",
    "    max_tokens=vocabulary_size, ngrams=2, output_mode=\"tf_idf\"\n",
    ")\n",
    "\n",
    "with tf.device(\"/CPU:0\"):\n",
    "    text_vectorizer.adapt(train_dataset.map(lambda text, label: text))\n",
    "\n",
    "train_dataset = train_dataset.map(\n",
    "    lambda text, label: (text_vectorizer(text), label), num_parallel_calls=auto\n",
    ").prefetch(auto)\n",
    "validation_dataset = validation_dataset.map(\n",
    "    lambda text, label: (text_vectorizer(text), label), num_parallel_calls=auto\n",
    ").prefetch(auto)\n",
    "test_dataset = test_dataset.map(\n",
    "    lambda text, label: (text_vectorizer(text), label), num_parallel_calls=auto\n",
    ").prefetch(auto)\n"
   ]
  },
  {
   "cell_type": "markdown",
   "metadata": {
    "id": "tdFfBZ_zXkHQ"
   },
   "source": [
    "## Обучаемая модель\n",
    "В качестве модели используем достаточно простую сеть, состоящую из пары полносвязных слоев с ReLU в качестве функции активации.\n"
   ]
  },
  {
   "cell_type": "code",
   "execution_count": 30,
   "metadata": {
    "executionInfo": {
     "elapsed": 249,
     "status": "ok",
     "timestamp": 1647993340193,
     "user": {
      "displayName": "Timur Khabibullin",
      "photoUrl": "https://lh3.googleusercontent.com/a-/AOh14GhOK0kcrUXUwPQDbjACA0rItmrC9sTNoFqjgi6gFg=s64",
      "userId": "18246770792160690538"
     },
     "user_tz": -180
    },
    "id": "90s0VMiMXkHR"
   },
   "outputs": [],
   "source": [
    "\n",
    "def make_model():\n",
    "    shallow_mlp_model = keras.Sequential(\n",
    "        [\n",
    "            layers.Dense(512, activation=\"relu\"),\n",
    "            layers.Dense(256, activation=\"relu\"),\n",
    "            layers.Dense(lookup.vocabulary_size(), activation=\"sigmoid\"),\n",
    "        ]  \n",
    "    )\n",
    "    return shallow_mlp_model\n"
   ]
  },
  {
   "cell_type": "code",
   "execution_count": 31,
   "metadata": {
    "colab": {
     "base_uri": "https://localhost:8080/",
     "height": 1000
    },
    "executionInfo": {
     "elapsed": 192778,
     "status": "ok",
     "timestamp": 1647993534801,
     "user": {
      "displayName": "Timur Khabibullin",
      "photoUrl": "https://lh3.googleusercontent.com/a-/AOh14GhOK0kcrUXUwPQDbjACA0rItmrC9sTNoFqjgi6gFg=s64",
      "userId": "18246770792160690538"
     },
     "user_tz": -180
    },
    "id": "MMqHFt8RXkHS",
    "outputId": "f5baae3e-0331-408b-8511-dc1cb79455b2"
   },
   "outputs": [
    {
     "name": "stdout",
     "output_type": "stream",
     "text": [
      "Epoch 1/20\n",
      "121/121 [==============================] - 8s 65ms/step - loss: 0.2805 - categorical_accuracy: 0.6808 - val_loss: 0.2405 - val_categorical_accuracy: 0.7005\n",
      "Epoch 2/20\n",
      "121/121 [==============================] - 8s 65ms/step - loss: 0.0735 - categorical_accuracy: 0.8846 - val_loss: 0.3235 - val_categorical_accuracy: 0.6737\n",
      "Epoch 3/20\n",
      "121/121 [==============================] - 9s 75ms/step - loss: 0.0180 - categorical_accuracy: 0.9057 - val_loss: 0.5009 - val_categorical_accuracy: 0.6655\n",
      "Epoch 4/20\n",
      "121/121 [==============================] - 10s 83ms/step - loss: 0.0088 - categorical_accuracy: 0.9086 - val_loss: 0.5681 - val_categorical_accuracy: 0.6748\n",
      "Epoch 5/20\n",
      "121/121 [==============================] - 10s 81ms/step - loss: 0.0034 - categorical_accuracy: 0.9015 - val_loss: 0.6548 - val_categorical_accuracy: 0.6807\n",
      "Epoch 6/20\n",
      "121/121 [==============================] - 10s 79ms/step - loss: 0.0012 - categorical_accuracy: 0.9083 - val_loss: 0.7025 - val_categorical_accuracy: 0.6772\n",
      "Epoch 7/20\n",
      "121/121 [==============================] - 10s 82ms/step - loss: 8.3355e-04 - categorical_accuracy: 0.8960 - val_loss: 0.7354 - val_categorical_accuracy: 0.6690\n",
      "Epoch 8/20\n",
      "121/121 [==============================] - 10s 83ms/step - loss: 3.3796e-04 - categorical_accuracy: 0.9035 - val_loss: 0.7673 - val_categorical_accuracy: 0.6807\n",
      "Epoch 9/20\n",
      "121/121 [==============================] - 10s 81ms/step - loss: 1.9471e-04 - categorical_accuracy: 0.9075 - val_loss: 0.7876 - val_categorical_accuracy: 0.6830\n",
      "Epoch 10/20\n",
      "121/121 [==============================] - 10s 83ms/step - loss: 1.2573e-04 - categorical_accuracy: 0.9145 - val_loss: 0.8081 - val_categorical_accuracy: 0.6841\n",
      "Epoch 11/20\n",
      "121/121 [==============================] - 11s 94ms/step - loss: 1.2949e-04 - categorical_accuracy: 0.9074 - val_loss: 0.8278 - val_categorical_accuracy: 0.6900\n",
      "Epoch 12/20\n",
      "121/121 [==============================] - 10s 84ms/step - loss: 7.1414e-05 - categorical_accuracy: 0.9127 - val_loss: 0.8436 - val_categorical_accuracy: 0.6876\n",
      "Epoch 13/20\n",
      "121/121 [==============================] - 10s 83ms/step - loss: 6.7689e-05 - categorical_accuracy: 0.9123 - val_loss: 0.8625 - val_categorical_accuracy: 0.6935\n",
      "Epoch 14/20\n",
      "121/121 [==============================] - 10s 84ms/step - loss: 7.6825e-05 - categorical_accuracy: 0.9141 - val_loss: 0.8746 - val_categorical_accuracy: 0.6935\n",
      "Epoch 15/20\n",
      "121/121 [==============================] - 10s 81ms/step - loss: 7.1817e-05 - categorical_accuracy: 0.9138 - val_loss: 0.8881 - val_categorical_accuracy: 0.6935\n",
      "Epoch 16/20\n",
      "121/121 [==============================] - 11s 88ms/step - loss: 4.1163e-05 - categorical_accuracy: 0.9124 - val_loss: 0.9044 - val_categorical_accuracy: 0.6923\n",
      "Epoch 17/20\n",
      "121/121 [==============================] - 10s 82ms/step - loss: 4.3634e-05 - categorical_accuracy: 0.9105 - val_loss: 0.9183 - val_categorical_accuracy: 0.6923\n",
      "Epoch 18/20\n",
      "121/121 [==============================] - 10s 81ms/step - loss: 4.4930e-05 - categorical_accuracy: 0.9111 - val_loss: 0.9330 - val_categorical_accuracy: 0.6923\n",
      "Epoch 19/20\n",
      "121/121 [==============================] - 10s 83ms/step - loss: 3.8650e-05 - categorical_accuracy: 0.9114 - val_loss: 0.9467 - val_categorical_accuracy: 0.6958\n",
      "Epoch 20/20\n",
      "121/121 [==============================] - 10s 81ms/step - loss: 3.1514e-05 - categorical_accuracy: 0.9125 - val_loss: 0.9562 - val_categorical_accuracy: 0.6911\n"
     ]
    },
    {
     "data": {
      "image/png": "[encoded data removed]",
      "text/plain": [
       "<Figure size 432x288 with 1 Axes>"
      ]
     },
     "metadata": {
      "needs_background": "light"
     },
     "output_type": "display_data"
    },
    {
     "data": {
      "image/png": "[encoded data removed]",
      "text/plain": [
       "<Figure size 432x288 with 1 Axes>"
      ]
     },
     "metadata": {
      "needs_background": "light"
     },
     "output_type": "display_data"
    }
   ],
   "source": [
    "epochs = 20\n",
    "\n",
    "shallow_mlp_model = make_model()\n",
    "shallow_mlp_model.compile(\n",
    "    loss=\"binary_crossentropy\", optimizer=\"adam\", metrics=[\"categorical_accuracy\"]\n",
    ")\n",
    "\n",
    "history = shallow_mlp_model.fit(\n",
    "    train_dataset, validation_data=validation_dataset, epochs=epochs\n",
    ")\n",
    "\n",
    "\n",
    "def plot_result(item):\n",
    "    plt.plot(history.history[item], label=item)\n",
    "    plt.plot(history.history[\"val_\" + item], label=\"val_\" + item)\n",
    "    plt.xlabel(\"Epochs\")\n",
    "    plt.ylabel(item)\n",
    "    plt.title(\"Train and Validation {} Over Epochs\".format(item), fontsize=14)\n",
    "    plt.legend()\n",
    "    plt.grid()\n",
    "    plt.show()\n",
    "\n",
    "\n",
    "plot_result(\"loss\")\n",
    "plot_result(\"categorical_accuracy\")"
   ]
  },
  {
   "cell_type": "markdown",
   "metadata": {
    "id": "IHN6JV4lXkHT"
   },
   "source": [
    "Проверим точность на тестовой выборке:"
   ]
  },
  {
   "cell_type": "code",
   "execution_count": 33,
   "metadata": {
    "colab": {
     "base_uri": "https://localhost:8080/"
    },
    "executionInfo": {
     "elapsed": 540,
     "status": "ok",
     "timestamp": 1647993540247,
     "user": {
      "displayName": "Timur Khabibullin",
      "photoUrl": "https://lh3.googleusercontent.com/a-/AOh14GhOK0kcrUXUwPQDbjACA0rItmrC9sTNoFqjgi6gFg=s64",
      "userId": "18246770792160690538"
     },
     "user_tz": -180
    },
    "id": "7wRyOyhnXkHT",
    "outputId": "8cb87404-f190-4bdd-9b69-5e9554a7bc4d"
   },
   "outputs": [
    {
     "name": "stdout",
     "output_type": "stream",
     "text": [
      "7/7 [==============================] - 0s 18ms/step - loss: 0.9828 - categorical_accuracy: 0.6834\n",
      "Точность на тестовом датасете: 68.34%.\n"
     ]
    }
   ],
   "source": [
    "_, categorical_acc = shallow_mlp_model.evaluate(test_dataset)\n",
    "print(f\"Точность на тестовом датасете: {round(categorical_acc * 100, 2)}%.\")"
   ]
  },
  {
   "cell_type": "code",
   "execution_count": null,
   "metadata": {},
   "outputs": [],
   "source": []
  }
 ],
 "metadata": {
  "accelerator": "GPU",
  "colab": {
   "collapsed_sections": [],
   "name": "Копия блокнота \"multi_label_classification\"",
   "provenance": [
    {
     "file_id": "https://github.com/keras-team/keras-io/blob/master/examples/nlp/ipynb/multi_label_classification.ipynb",
     "timestamp": 1647981805556
    }
   ]
  },
  "kernelspec": {
   "display_name": "Python 3 (ipykernel)",
   "language": "python",
   "name": "python3"
  },
  "language_info": {
   "codemirror_mode": {
    "name": "ipython",
    "version": 3
   },
   "file_extension": ".py",
   "mimetype": "text/x-python",
   "name": "python",
   "nbconvert_exporter": "python",
   "pygments_lexer": "ipython3",
   "version": "3.9.7"
  }
 },
 "nbformat": 4,
 "nbformat_minor": 1
}
