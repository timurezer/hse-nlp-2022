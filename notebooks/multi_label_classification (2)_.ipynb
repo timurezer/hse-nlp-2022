{
 "cells": [
  {
   "cell_type": "markdown",
   "metadata": {
    "id": "Bg-XAKDpXkGy"
   },
   "source": [
    "# Multi-label классификация по ключевым словам\n"
   ]
  },
  {
   "cell_type": "markdown",
   "metadata": {
    "id": "Cxixp_M_XkG5"
   },
   "source": [
    "## Импорты"
   ]
  },
  {
   "cell_type": "code",
   "execution_count": 1,
   "metadata": {
    "executionInfo": {
     "elapsed": 228,
     "status": "ok",
     "timestamp": 1647992334027,
     "user": {
      "displayName": "Timur Khabibullin",
      "photoUrl": "https://lh3.googleusercontent.com/a-/AOh14GhOK0kcrUXUwPQDbjACA0rItmrC9sTNoFqjgi6gFg=s64",
      "userId": "18246770792160690538"
     },
     "user_tz": -180
    },
    "id": "0QLb8FNMXkG6"
   },
   "outputs": [
    {
     "name": "stderr",
     "output_type": "stream",
     "text": [
      "2022-03-23 13:37:36.852006: W tensorflow/stream_executor/platform/default/dso_loader.cc:64] Could not load dynamic library 'libcudart.so.11.0'; dlerror: libcudart.so.11.0: cannot open shared object file: No such file or directory\n",
      "2022-03-23 13:37:36.852028: I tensorflow/stream_executor/cuda/cudart_stub.cc:29] Ignore above cudart dlerror if you do not have a GPU set up on your machine.\n"
     ]
    }
   ],
   "source": [
    "import os\n",
    "from tensorflow.keras import layers\n",
    "from tensorflow import keras\n",
    "import tensorflow as tf\n",
    "\n",
    "from sklearn.model_selection import train_test_split\n",
    "from ast import literal_eval\n",
    "\n",
    "import matplotlib.pyplot as plt\n",
    "import pandas as pd\n",
    "import numpy as np"
   ]
  },
  {
   "cell_type": "code",
   "execution_count": 2,
   "metadata": {},
   "outputs": [
    {
     "data": {
      "text/plain": [
       "'/home/margarita/github/hse-nlp-2022/data/processed'"
      ]
     },
     "execution_count": 2,
     "metadata": {},
     "output_type": "execute_result"
    }
   ],
   "source": [
    "ROOT_DIR = os.path.split(os.getcwd())[0]\n",
    "DATA_DIR = os.path.join(ROOT_DIR, 'data', 'processed')\n",
    "DATA_DIR\n"
   ]
  },
  {
   "cell_type": "markdown",
   "metadata": {
    "colab": {
     "base_uri": "https://localhost:8080/"
    },
    "executionInfo": {
     "elapsed": 2339,
     "status": "ok",
     "timestamp": 1647992336600,
     "user": {
      "displayName": "Timur Khabibullin",
      "photoUrl": "https://lh3.googleusercontent.com/a-/AOh14GhOK0kcrUXUwPQDbjACA0rItmrC9sTNoFqjgi6gFg=s64",
      "userId": "18246770792160690538"
     },
     "user_tz": -180
    },
    "id": "lN7oYnsKt8q1",
    "outputId": "cdf52d13-013a-4c3e-f2a0-41d7c020b28e"
   },
   "source": [
    "from google.colab import drive\n",
    "drive.mount('/content/drive')"
   ]
  },
  {
   "cell_type": "markdown",
   "metadata": {
    "id": "Y9ZLifBcXkG7"
   },
   "source": [
    "## Предварительная работа с данными\n",
    "Загрузим предобработанный датасет в датафрейм `pandas`. Из абстрактов были предварительно удалены знаки препинания, сам текст переведен в lower case."
   ]
  },
  {
   "cell_type": "code",
   "execution_count": 3,
   "metadata": {
    "colab": {
     "base_uri": "https://localhost:8080/",
     "height": 202
    },
    "executionInfo": {
     "elapsed": 1350,
     "status": "ok",
     "timestamp": 1647992337944,
     "user": {
      "displayName": "Timur Khabibullin",
      "photoUrl": "https://lh3.googleusercontent.com/a-/AOh14GhOK0kcrUXUwPQDbjACA0rItmrC9sTNoFqjgi6gFg=s64",
      "userId": "18246770792160690538"
     },
     "user_tz": -180
    },
    "id": "fSEY9n18XkG8",
    "outputId": "2ba2cb91-160d-4e0d-b1b2-0da743964a89"
   },
   "outputs": [
    {
     "data": {
      "text/html": [
       "<div>\n",
       "<style scoped>\n",
       "    .dataframe tbody tr th:only-of-type {\n",
       "        vertical-align: middle;\n",
       "    }\n",
       "\n",
       "    .dataframe tbody tr th {\n",
       "        vertical-align: top;\n",
       "    }\n",
       "\n",
       "    .dataframe thead th {\n",
       "        text-align: right;\n",
       "    }\n",
       "</style>\n",
       "<table border=\"1\" class=\"dataframe\">\n",
       "  <thead>\n",
       "    <tr style=\"text-align: right;\">\n",
       "      <th></th>\n",
       "      <th>journal</th>\n",
       "      <th>DOI</th>\n",
       "      <th>abstract</th>\n",
       "      <th>keywords</th>\n",
       "    </tr>\n",
       "  </thead>\n",
       "  <tbody>\n",
       "    <tr>\n",
       "      <th>0</th>\n",
       "      <td>ieee-proc</td>\n",
       "      <td>10.1109/JPROC.2013.2257631</td>\n",
       "      <td>the wireless sensor network wsn technology spa...</td>\n",
       "      <td>['Control systems']</td>\n",
       "    </tr>\n",
       "    <tr>\n",
       "      <th>1</th>\n",
       "      <td>ieee-proc</td>\n",
       "      <td>10.1109/JPROC.2010.2064151</td>\n",
       "      <td>owing in part to complementary metaloxidesemic...</td>\n",
       "      <td>['Logic gates']</td>\n",
       "    </tr>\n",
       "    <tr>\n",
       "      <th>2</th>\n",
       "      <td>ieee-proc</td>\n",
       "      <td>10.1109/JPROC.2010.2065211</td>\n",
       "      <td>semiconductor nanowires have attracted conside...</td>\n",
       "      <td>['Silicon']</td>\n",
       "    </tr>\n",
       "    <tr>\n",
       "      <th>3</th>\n",
       "      <td>ieee-proc</td>\n",
       "      <td>10.1109/JPROC.2010.2063411</td>\n",
       "      <td>power density has grown to be the dominant cha...</td>\n",
       "      <td>['Logic gates']</td>\n",
       "    </tr>\n",
       "    <tr>\n",
       "      <th>4</th>\n",
       "      <td>ieee-proc</td>\n",
       "      <td>10.1109/JPROC.2010.2070470</td>\n",
       "      <td>steep subthreshold swing transistors based on ...</td>\n",
       "      <td>['Logic gates']</td>\n",
       "    </tr>\n",
       "  </tbody>\n",
       "</table>\n",
       "</div>"
      ],
      "text/plain": [
       "     journal                         DOI  \\\n",
       "0  ieee-proc  10.1109/JPROC.2013.2257631   \n",
       "1  ieee-proc  10.1109/JPROC.2010.2064151   \n",
       "2  ieee-proc  10.1109/JPROC.2010.2065211   \n",
       "3  ieee-proc  10.1109/JPROC.2010.2063411   \n",
       "4  ieee-proc  10.1109/JPROC.2010.2070470   \n",
       "\n",
       "                                            abstract             keywords  \n",
       "0  the wireless sensor network wsn technology spa...  ['Control systems']  \n",
       "1  owing in part to complementary metaloxidesemic...      ['Logic gates']  \n",
       "2  semiconductor nanowires have attracted conside...          ['Silicon']  \n",
       "3  power density has grown to be the dominant cha...      ['Logic gates']  \n",
       "4  steep subthreshold swing transistors based on ...      ['Logic gates']  "
      ]
     },
     "execution_count": 3,
     "metadata": {},
     "output_type": "execute_result"
    }
   ],
   "source": [
    "fname = os.path.join(DATA_DIR, 'top5.csv')\n",
    "data = pd.read_csv(fname, sep=',', quotechar='\"', encoding='utf-8', engine='python')\n",
    "data.head()"
   ]
  },
  {
   "cell_type": "markdown",
   "metadata": {
    "id": "dGnTBdNcXkG9"
   },
   "source": [
    "В качестве текстовых фичей мы используем абстракты `abstract`, в качестве лейблов - клчевые слова `keywords`, указанные в соответствующих статьях.\n"
   ]
  },
  {
   "cell_type": "code",
   "execution_count": 4,
   "metadata": {
    "colab": {
     "base_uri": "https://localhost:8080/"
    },
    "executionInfo": {
     "elapsed": 15,
     "status": "ok",
     "timestamp": 1647992337945,
     "user": {
      "displayName": "Timur Khabibullin",
      "photoUrl": "https://lh3.googleusercontent.com/a-/AOh14GhOK0kcrUXUwPQDbjACA0rItmrC9sTNoFqjgi6gFg=s64",
      "userId": "18246770792160690538"
     },
     "user_tz": -180
    },
    "id": "rBYCA3VlXkG-",
    "outputId": "b5dee20c-fb99-42c1-9395-9c31e2873dd9"
   },
   "outputs": [
    {
     "name": "stdout",
     "output_type": "stream",
     "text": [
      "Количество статей: 17162\n"
     ]
    }
   ],
   "source": [
    "print(f\"Количество статей: {len(data)}\")"
   ]
  },
  {
   "cell_type": "markdown",
   "metadata": {
    "id": "neWiOMf6XkHF"
   },
   "source": [
    "Приведем лейблы к более удобному формату:"
   ]
  },
  {
   "cell_type": "code",
   "execution_count": 5,
   "metadata": {
    "colab": {
     "base_uri": "https://localhost:8080/"
    },
    "executionInfo": {
     "elapsed": 909,
     "status": "ok",
     "timestamp": 1647992338846,
     "user": {
      "displayName": "Timur Khabibullin",
      "photoUrl": "https://lh3.googleusercontent.com/a-/AOh14GhOK0kcrUXUwPQDbjACA0rItmrC9sTNoFqjgi6gFg=s64",
      "userId": "18246770792160690538"
     },
     "user_tz": -180
    },
    "id": "JpzIc6YIXkHG",
    "outputId": "6003088e-7113-4a0d-dbf6-50ea462fb999"
   },
   "outputs": [
    {
     "data": {
      "text/plain": [
       "array([list(['Control systems']), list(['Logic gates']),\n",
       "       list(['Silicon']), list(['Logic gates']), list(['Logic gates'])],\n",
       "      dtype=object)"
      ]
     },
     "execution_count": 5,
     "metadata": {},
     "output_type": "execute_result"
    }
   ],
   "source": [
    "data[\"keywords\"] = data[\"keywords\"].apply(\n",
    "    lambda x: literal_eval(x)\n",
    ")\n",
    "data[\"keywords\"].values[:5]"
   ]
  },
  {
   "cell_type": "markdown",
   "metadata": {
    "id": "8AGpOAiqXkHG"
   },
   "source": [
    "Разобьем данные на тестовую, валидационную и тренировочную выборки."
   ]
  },
  {
   "cell_type": "code",
   "execution_count": 6,
   "metadata": {
    "colab": {
     "base_uri": "https://localhost:8080/"
    },
    "executionInfo": {
     "elapsed": 9,
     "status": "ok",
     "timestamp": 1647992338847,
     "user": {
      "displayName": "Timur Khabibullin",
      "photoUrl": "https://lh3.googleusercontent.com/a-/AOh14GhOK0kcrUXUwPQDbjACA0rItmrC9sTNoFqjgi6gFg=s64",
      "userId": "18246770792160690538"
     },
     "user_tz": -180
    },
    "id": "N_-7y_ZEXkHH",
    "outputId": "0f130410-eb66-423d-bdab-d3580cba723f"
   },
   "outputs": [
    {
     "name": "stdout",
     "output_type": "stream",
     "text": [
      "Статей в тренировочной выборке: 15445\n",
      "Статей в валидационной выборке: 858\n",
      "Статей в тестовой выборке: 859\n"
     ]
    },
    {
     "name": "stderr",
     "output_type": "stream",
     "text": [
      "/home/margarita/anaconda3/lib/python3.9/site-packages/pandas/core/frame.py:4906: SettingWithCopyWarning: \n",
      "A value is trying to be set on a copy of a slice from a DataFrame\n",
      "\n",
      "See the caveats in the documentation: https://pandas.pydata.org/pandas-docs/stable/user_guide/indexing.html#returning-a-view-versus-a-copy\n",
      "  return super().drop(\n"
     ]
    }
   ],
   "source": [
    "test_split = 0.1\n",
    "\n",
    "train_df, test_df = train_test_split(\n",
    "    data,\n",
    "    test_size=test_split,\n",
    ")\n",
    "\n",
    "val_df = test_df.sample(frac=0.5)\n",
    "test_df.drop(val_df.index, inplace=True)\n",
    "\n",
    "print(f\"Статей в тренировочной выборке: {len(train_df)}\")\n",
    "print(f\"Статей в валидационной выборке: {len(val_df)}\")\n",
    "print(f\"Статей в тестовой выборке: {len(test_df)}\")"
   ]
  },
  {
   "cell_type": "markdown",
   "metadata": {
    "id": "HN9kvaK6XkHI"
   },
   "source": [
    "## Создание словаря и one-hot encoding\n",
    "\n",
    "Используя слой `StringLookUp`, получим словарь из ключевых слов и закодируем их."
   ]
  },
  {
   "cell_type": "code",
   "execution_count": 7,
   "metadata": {
    "colab": {
     "base_uri": "https://localhost:8080/"
    },
    "executionInfo": {
     "elapsed": 2653,
     "status": "ok",
     "timestamp": 1647992341495,
     "user": {
      "displayName": "Timur Khabibullin",
      "photoUrl": "https://lh3.googleusercontent.com/a-/AOh14GhOK0kcrUXUwPQDbjACA0rItmrC9sTNoFqjgi6gFg=s64",
      "userId": "18246770792160690538"
     },
     "user_tz": -180
    },
    "id": "uVhVbe6nXkHJ",
    "outputId": "ea343d7a-6a65-4145-8134-d6872bca0b07"
   },
   "outputs": [
    {
     "name": "stderr",
     "output_type": "stream",
     "text": [
      "2022-03-23 13:37:50.530939: E tensorflow/stream_executor/cuda/cuda_driver.cc:271] failed call to cuInit: CUDA_ERROR_NO_DEVICE: no CUDA-capable device is detected\n",
      "2022-03-23 13:37:50.530998: I tensorflow/stream_executor/cuda/cuda_diagnostics.cc:156] kernel driver does not appear to be running on this host (margarita-Swift): /proc/driver/nvidia/version does not exist\n",
      "2022-03-23 13:37:50.532019: I tensorflow/core/platform/cpu_feature_guard.cc:151] This TensorFlow binary is optimized with oneAPI Deep Neural Network Library (oneDNN) to use the following CPU instructions in performance-critical operations:  AVX2 AVX512F FMA\n",
      "To enable them in other operations, rebuild TensorFlow with the appropriate compiler flags.\n"
     ]
    },
    {
     "name": "stdout",
     "output_type": "stream",
     "text": [
      "Словарь:\n",
      "\n",
      "['[UNK]', 'Control systems', 'Logic gates', 'Equations', 'Silicon', 'Linear systems']\n",
      "\n",
      "Пример закодированного вектора:\n",
      "\n",
      "[1. 0. 0. 0. 0. 0.]\n"
     ]
    }
   ],
   "source": [
    "terms = tf.ragged.constant(train_df[\"keywords\"].values)\n",
    "lookup = tf.keras.layers.StringLookup(output_mode=\"multi_hot\")\n",
    "lookup.adapt(terms)\n",
    "vocab = lookup.get_vocabulary()\n",
    "\n",
    "\n",
    "def invert_multi_hot(encoded_labels):\n",
    "    hot_indices = np.argwhere(encoded_labels == 1.0)[..., 0]\n",
    "    return np.take(vocab, hot_indices)\n",
    "\n",
    "\n",
    "print(\"Словарь:\\n\")\n",
    "print(vocab)\n",
    "print()\n",
    "example = tf.ragged.constant(vocab)[0]\n",
    "print(\"Пример закодированного вектора:\\n\")\n",
    "print(lookup(example).numpy())"
   ]
  },
  {
   "cell_type": "markdown",
   "metadata": {
    "id": "qK7R12iIXkHL"
   },
   "source": [
    "## Сбор итогового датасета\n",
    "\n",
    "Для дальнейшего обучения будет полезно посмотреть на характеристики абстрактов."
   ]
  },
  {
   "cell_type": "code",
   "execution_count": 8,
   "metadata": {
    "colab": {
     "base_uri": "https://localhost:8080/"
    },
    "executionInfo": {
     "elapsed": 472,
     "status": "ok",
     "timestamp": 1647992341963,
     "user": {
      "displayName": "Timur Khabibullin",
      "photoUrl": "https://lh3.googleusercontent.com/a-/AOh14GhOK0kcrUXUwPQDbjACA0rItmrC9sTNoFqjgi6gFg=s64",
      "userId": "18246770792160690538"
     },
     "user_tz": -180
    },
    "id": "jE_32GiuXkHM",
    "outputId": "b1b4bb6d-e19f-40f5-ca80-8b6bc0d71dfb"
   },
   "outputs": [
    {
     "data": {
      "text/plain": [
       "count    15445.000000\n",
       "mean       111.395727\n",
       "std         55.523417\n",
       "min          2.000000\n",
       "25%         68.000000\n",
       "50%        105.000000\n",
       "75%        147.000000\n",
       "max        390.000000\n",
       "Name: abstract, dtype: float64"
      ]
     },
     "execution_count": 8,
     "metadata": {},
     "output_type": "execute_result"
    }
   ],
   "source": [
    "train_df[\"abstract\"].apply(lambda x: len(x.split(\" \"))).describe()"
   ]
  },
  {
   "cell_type": "markdown",
   "metadata": {
    "id": "B6Z_6RTsXkHM"
   },
   "source": [
    "Видим, что у половины статей длина абстракта не превышает 105 слов. Таким образом, в дальнейшем разумно брать примерно такую максимальную длину текста для обучения модели."
   ]
  },
  {
   "cell_type": "markdown",
   "metadata": {},
   "source": [
    "Соберем датасет, состоящий из абстрактов и one-hot векторов, представляющих ключевые слова."
   ]
  },
  {
   "cell_type": "code",
   "execution_count": 9,
   "metadata": {
    "executionInfo": {
     "elapsed": 7,
     "status": "ok",
     "timestamp": 1647992341964,
     "user": {
      "displayName": "Timur Khabibullin",
      "photoUrl": "https://lh3.googleusercontent.com/a-/AOh14GhOK0kcrUXUwPQDbjACA0rItmrC9sTNoFqjgi6gFg=s64",
      "userId": "18246770792160690538"
     },
     "user_tz": -180
    },
    "id": "lgHUrKgJXkHM"
   },
   "outputs": [],
   "source": [
    "max_seqlen = 105\n",
    "batch_size = 128\n",
    "padding_token = \"<pad>\"\n",
    "auto = tf.data.AUTOTUNE\n",
    "\n",
    "\n",
    "def make_dataset(dataframe, is_train=True):\n",
    "    labels = tf.ragged.constant(dataframe[\"keywords\"].values)\n",
    "    label_binarized = lookup(labels).numpy()\n",
    "    dataset = tf.data.Dataset.from_tensor_slices(\n",
    "        (dataframe[\"abstract\"].values, label_binarized)\n",
    "    )\n",
    "    dataset = dataset.shuffle(batch_size * 10) if is_train else dataset\n",
    "    return dataset.batch(batch_size)\n"
   ]
  },
  {
   "cell_type": "code",
   "execution_count": 10,
   "metadata": {
    "executionInfo": {
     "elapsed": 342,
     "status": "ok",
     "timestamp": 1647992342300,
     "user": {
      "displayName": "Timur Khabibullin",
      "photoUrl": "https://lh3.googleusercontent.com/a-/AOh14GhOK0kcrUXUwPQDbjACA0rItmrC9sTNoFqjgi6gFg=s64",
      "userId": "18246770792160690538"
     },
     "user_tz": -180
    },
    "id": "bgTuYc7kXkHN"
   },
   "outputs": [],
   "source": [
    "train_dataset = make_dataset(train_df, is_train=True)\n",
    "validation_dataset = make_dataset(val_df, is_train=False)\n",
    "test_dataset = make_dataset(test_df, is_train=False)"
   ]
  },
  {
   "cell_type": "markdown",
   "metadata": {
    "id": "hoCSNRvVXkHO"
   },
   "source": [
    "Выведем некоторые примеры из этого датасета:"
   ]
  },
  {
   "cell_type": "code",
   "execution_count": 11,
   "metadata": {
    "colab": {
     "base_uri": "https://localhost:8080/"
    },
    "executionInfo": {
     "elapsed": 6,
     "status": "ok",
     "timestamp": 1647992342301,
     "user": {
      "displayName": "Timur Khabibullin",
      "photoUrl": "https://lh3.googleusercontent.com/a-/AOh14GhOK0kcrUXUwPQDbjACA0rItmrC9sTNoFqjgi6gFg=s64",
      "userId": "18246770792160690538"
     },
     "user_tz": -180
    },
    "id": "AAQyEJjZXkHO",
    "outputId": "29121cf1-d406-42c0-afb4-2847ac45114b"
   },
   "outputs": [
    {
     "name": "stdout",
     "output_type": "stream",
     "text": [
      "Abstract: b'an analytical technique is described for the estimation of the parameters of linear thirdorder systems the expressions giving the parameter values in terms of the magnitude of the system step response at specified instants of time are derived the technique is illustrated by considering two different thirdorder systems'\n",
      "Label(s): ['Control systems' 'Equations']\n",
      " \n",
      "Abstract: b'recent progress in stackelberg dynamic games concentrates on either the deterministic situations or partially nested stochastic problems in this paper a class of nonnested stochastic stackelberg dynamic games namely log additive incentive problems is solved by explicitly introducing two essential ideasmatching answers and gpd phenomenon each incentive problem can be converted into a set of decoupled inverse team problems itps the solution of each itp can then be found by solving a set of linear algebraic equations if it exists moreover it is shown that for a wide class of problems if there exist more agents then it is more advantageous to the leader in the sense that he has more free parameters to manipulate therefore the leader can always induce the agents cooperation as a team by means of incentives if there are enough agents application to a class of stochastic closedloop dynamic stackelberg games is also given since typically there exist a large number of free parameters in our solution adequate parameters can then be chosen to make the incentive scheme satisfy additional useful properties such as balanced budget and noise robustness these topics are treated in the appendices'\n",
      "Label(s): ['Equations']\n",
      " \n",
      "Abstract: b'we describe the development and optical characterization of a planar medium infrared midir insb photodetector on a gaas substrate technology capable of integrating mesfets to demonstrate a new active pixel device architecture our results pave the way for the development of integrated midir focal plane array circuits on a single chip device structures with areas down to  mm   were investigated by deploying a silicon nitride passivation layer we were able to reduce leakage current in reverse bias by up to  to yield an improved rectifier extensive optical characterization was carried out in the near and midir wavelength range responsivities of up to  aw and quantum efficiency values above unity were obtained in the nearir range as a consequence of illumination above the bandgap causing impact ionization in the midir range responsivities of up to  aw were observed the bandwidth of the devices proved compatible with videorate standard sampling rates'\n",
      "Label(s): ['Silicon']\n",
      " \n",
      "Abstract: b'the optimal control of a single machine processing a certain number of jobs and modeled as a discreteevent dynamic system is considered the number of jobs and their sequence are fixed whereas their timing and sizes represent the control variables of the system the objective function to be optimized is a weighted sum of the quadratic earliness and tardiness of each job and of the quadratic deviations of job lot sizes and actual machine service speeds from those specified by the production demand and by the regular machine speeds an optimization problem with quadratic cost function and nonlinear constraints is stated and formalized as a multistage optimal control problem necessary conditions to be satisfied by an optimal control sequence are derived a simpler model is also considered in which the machine speeds are fixed in this case the control problem is solved by a procedure making use of dynamic programming techniques the optimal control laws at each stage are thus obtained'\n",
      "Label(s): ['Control systems']\n",
      " \n",
      "Abstract: b'in this work we explore an in  o  electrolytegated thin film transistor in  o  egtft as a labelfree biosensor through surface modification the in  o   channel is coated by streptavidin which serves as a receptor molecule then the target biomolecules of biotin to be detected are captured by the receptor molecules the charges in the target biomolecules would change the surface potential of the in  o   channel and result in the change of the egtft electrical performance here the positive charges are observed in biotin and the sensitivity is achieved as high as  nadec with ultralow operation voltage of v  g    v and v ds    mv the high background carrier concentration in the metal organic chemical vapor deposition mocvd grown in  o   and huge electric double layer edl capacitance in liquid gate could contribute to the ultralow operation voltage the detection limit is  ngml this study demonstrates the feasibility of in  o  egtft as biosensor even though the detection limit should be improved'\n",
      "Label(s): ['Logic gates']\n",
      " \n"
     ]
    }
   ],
   "source": [
    "text_batch, label_batch = next(iter(train_dataset))\n",
    "\n",
    "for i, text in enumerate(text_batch[:5]):\n",
    "    label = label_batch[i].numpy()[None, ...]\n",
    "    print(f\"Abstract: {text}\")\n",
    "    print(f\"Label(s): {invert_multi_hot(label[0])}\")\n",
    "    print(\" \")"
   ]
  },
  {
   "cell_type": "markdown",
   "metadata": {
    "id": "9goj0wPCXkHP"
   },
   "source": [
    "## Векторизация текста\n",
    "Посмотрим, насколько большим будет словарь, полученный из абстрактов.\n"
   ]
  },
  {
   "cell_type": "code",
   "execution_count": 12,
   "metadata": {
    "colab": {
     "base_uri": "https://localhost:8080/"
    },
    "executionInfo": {
     "elapsed": 735,
     "status": "ok",
     "timestamp": 1647992343032,
     "user": {
      "displayName": "Timur Khabibullin",
      "photoUrl": "https://lh3.googleusercontent.com/a-/AOh14GhOK0kcrUXUwPQDbjACA0rItmrC9sTNoFqjgi6gFg=s64",
      "userId": "18246770792160690538"
     },
     "user_tz": -180
    },
    "id": "VTryJV38XkHP",
    "outputId": "8ebc1163-fde6-4950-c700-2c4b9fe76a72"
   },
   "outputs": [
    {
     "name": "stdout",
     "output_type": "stream",
     "text": [
      "Размер словаря: 36571\n"
     ]
    }
   ],
   "source": [
    "vocabulary = set()\n",
    "train_df[\"abstract\"].str.split().apply(vocabulary.update)\n",
    "vocabulary_size = len(vocabulary)\n",
    "print(\"Размер словаря:\", vocabulary_size)"
   ]
  },
  {
   "cell_type": "markdown",
   "metadata": {},
   "source": [
    "\n",
    "Для того, чтобы модель могла работать с нашими текстами, нужно конвертировать информацию в числа. Для этого воспользуемся готовым слоем `TextVectorization`. Сначала этот слой разобьет тест на биграммы, потом выдаст представления, используя `TF-IDF`."
   ]
  },
  {
   "cell_type": "code",
   "execution_count": 13,
   "metadata": {
    "executionInfo": {
     "elapsed": 10630,
     "status": "ok",
     "timestamp": 1647992353659,
     "user": {
      "displayName": "Timur Khabibullin",
      "photoUrl": "https://lh3.googleusercontent.com/a-/AOh14GhOK0kcrUXUwPQDbjACA0rItmrC9sTNoFqjgi6gFg=s64",
      "userId": "18246770792160690538"
     },
     "user_tz": -180
    },
    "id": "ofKh3IxqXkHP"
   },
   "outputs": [],
   "source": [
    "text_vectorizer = layers.TextVectorization(\n",
    "    max_tokens=vocabulary_size, ngrams=2, output_mode=\"tf_idf\"\n",
    ")\n",
    "\n",
    "with tf.device(\"/CPU:0\"):\n",
    "    text_vectorizer.adapt(train_dataset.map(lambda text, label: text))\n",
    "\n",
    "train_dataset = train_dataset.map(\n",
    "    lambda text, label: (text_vectorizer(text), label), num_parallel_calls=auto\n",
    ").prefetch(auto)\n",
    "validation_dataset = validation_dataset.map(\n",
    "    lambda text, label: (text_vectorizer(text), label), num_parallel_calls=auto\n",
    ").prefetch(auto)\n",
    "test_dataset = test_dataset.map(\n",
    "    lambda text, label: (text_vectorizer(text), label), num_parallel_calls=auto\n",
    ").prefetch(auto)\n"
   ]
  },
  {
   "cell_type": "markdown",
   "metadata": {
    "id": "tdFfBZ_zXkHQ"
   },
   "source": [
    "## Обучаемая модель\n",
    "В качестве модели используем достаточно простую сеть, состоящую из пары полносвязных слоев с ReLU в качестве функции активации.\n"
   ]
  },
  {
   "cell_type": "code",
   "execution_count": 14,
   "metadata": {
    "executionInfo": {
     "elapsed": 249,
     "status": "ok",
     "timestamp": 1647993340193,
     "user": {
      "displayName": "Timur Khabibullin",
      "photoUrl": "https://lh3.googleusercontent.com/a-/AOh14GhOK0kcrUXUwPQDbjACA0rItmrC9sTNoFqjgi6gFg=s64",
      "userId": "18246770792160690538"
     },
     "user_tz": -180
    },
    "id": "90s0VMiMXkHR"
   },
   "outputs": [],
   "source": [
    "\n",
    "def make_model():\n",
    "    shallow_mlp_model = keras.Sequential(\n",
    "        [\n",
    "            layers.Dense(512, activation=\"relu\"),\n",
    "            layers.Dense(256, activation=\"relu\"),\n",
    "            layers.Dense(lookup.vocabulary_size(), activation=\"sigmoid\"),\n",
    "        ]  \n",
    "    )\n",
    "    return shallow_mlp_model\n"
   ]
  },
  {
   "cell_type": "code",
   "execution_count": 15,
   "metadata": {
    "colab": {
     "base_uri": "https://localhost:8080/",
     "height": 1000
    },
    "executionInfo": {
     "elapsed": 192778,
     "status": "ok",
     "timestamp": 1647993534801,
     "user": {
      "displayName": "Timur Khabibullin",
      "photoUrl": "https://lh3.googleusercontent.com/a-/AOh14GhOK0kcrUXUwPQDbjACA0rItmrC9sTNoFqjgi6gFg=s64",
      "userId": "18246770792160690538"
     },
     "user_tz": -180
    },
    "id": "MMqHFt8RXkHS",
    "outputId": "f5baae3e-0331-408b-8511-dc1cb79455b2"
   },
   "outputs": [
    {
     "name": "stdout",
     "output_type": "stream",
     "text": [
      "Epoch 1/20\n",
      "121/121 [==============================] - 9s 68ms/step - loss: 0.2798 - categorical_accuracy: 0.6825 - val_loss: 0.2359 - val_categorical_accuracy: 0.7121\n",
      "Epoch 2/20\n",
      "121/121 [==============================] - 9s 71ms/step - loss: 0.0743 - categorical_accuracy: 0.8873 - val_loss: 0.3253 - val_categorical_accuracy: 0.6725\n",
      "Epoch 3/20\n",
      "121/121 [==============================] - 10s 83ms/step - loss: 0.0164 - categorical_accuracy: 0.9050 - val_loss: 0.5073 - val_categorical_accuracy: 0.6620\n",
      "Epoch 4/20\n",
      "121/121 [==============================] - 10s 85ms/step - loss: 0.0072 - categorical_accuracy: 0.9126 - val_loss: 0.5873 - val_categorical_accuracy: 0.6538\n",
      "Epoch 5/20\n",
      "121/121 [==============================] - 10s 83ms/step - loss: 0.0033 - categorical_accuracy: 0.9062 - val_loss: 0.6376 - val_categorical_accuracy: 0.6690\n",
      "Epoch 6/20\n",
      "121/121 [==============================] - 11s 88ms/step - loss: 0.0015 - categorical_accuracy: 0.9105 - val_loss: 0.7303 - val_categorical_accuracy: 0.6690\n",
      "Epoch 7/20\n",
      "121/121 [==============================] - 11s 91ms/step - loss: 0.0023 - categorical_accuracy: 0.9084 - val_loss: 0.6971 - val_categorical_accuracy: 0.6725\n",
      "Epoch 8/20\n",
      "121/121 [==============================] - 11s 89ms/step - loss: 0.0037 - categorical_accuracy: 0.9020 - val_loss: 0.7645 - val_categorical_accuracy: 0.6166\n",
      "Epoch 9/20\n",
      "121/121 [==============================] - 11s 90ms/step - loss: 0.0073 - categorical_accuracy: 0.9092 - val_loss: 0.6512 - val_categorical_accuracy: 0.6702\n",
      "Epoch 10/20\n",
      "121/121 [==============================] - 11s 87ms/step - loss: 0.0102 - categorical_accuracy: 0.9062 - val_loss: 0.6771 - val_categorical_accuracy: 0.6608\n",
      "Epoch 11/20\n",
      "121/121 [==============================] - 11s 90ms/step - loss: 0.0099 - categorical_accuracy: 0.9003 - val_loss: 0.7516 - val_categorical_accuracy: 0.6434\n",
      "Epoch 12/20\n",
      "121/121 [==============================] - 11s 87ms/step - loss: 0.0042 - categorical_accuracy: 0.8976 - val_loss: 0.8632 - val_categorical_accuracy: 0.6294\n",
      "Epoch 13/20\n",
      "121/121 [==============================] - 10s 86ms/step - loss: 0.0028 - categorical_accuracy: 0.8913 - val_loss: 0.8489 - val_categorical_accuracy: 0.6492\n",
      "Epoch 14/20\n",
      "121/121 [==============================] - 11s 88ms/step - loss: 0.0030 - categorical_accuracy: 0.8872 - val_loss: 0.8548 - val_categorical_accuracy: 0.6608\n",
      "Epoch 15/20\n",
      "121/121 [==============================] - 11s 87ms/step - loss: 0.0026 - categorical_accuracy: 0.8913 - val_loss: 0.8815 - val_categorical_accuracy: 0.6445\n",
      "Epoch 16/20\n",
      "121/121 [==============================] - 11s 87ms/step - loss: 0.0017 - categorical_accuracy: 0.8898 - val_loss: 0.9415 - val_categorical_accuracy: 0.6573\n",
      "Epoch 17/20\n",
      "121/121 [==============================] - 11s 93ms/step - loss: 0.0011 - categorical_accuracy: 0.8989 - val_loss: 1.0116 - val_categorical_accuracy: 0.6737\n",
      "Epoch 18/20\n",
      "121/121 [==============================] - 11s 92ms/step - loss: 0.0019 - categorical_accuracy: 0.9043 - val_loss: 0.9067 - val_categorical_accuracy: 0.6737\n",
      "Epoch 19/20\n",
      "121/121 [==============================] - 11s 88ms/step - loss: 0.0015 - categorical_accuracy: 0.9021 - val_loss: 1.0276 - val_categorical_accuracy: 0.6643\n",
      "Epoch 20/20\n",
      "121/121 [==============================] - 11s 91ms/step - loss: 9.0553e-04 - categorical_accuracy: 0.8908 - val_loss: 0.9296 - val_categorical_accuracy: 0.6795\n"
     ]
    },
    {
     "data": {
      "image/png": "[encoded data removed]",
      "text/plain": [
       "<Figure size 432x288 with 1 Axes>"
      ]
     },
     "metadata": {
      "needs_background": "light"
     },
     "output_type": "display_data"
    },
    {
     "data": {
      "image/png": "[encoded data removed]",
      "text/plain": [
       "<Figure size 432x288 with 1 Axes>"
      ]
     },
     "metadata": {
      "needs_background": "light"
     },
     "output_type": "display_data"
    }
   ],
   "source": [
    "epochs = 20\n",
    "\n",
    "shallow_mlp_model = make_model()\n",
    "shallow_mlp_model.compile(\n",
    "    loss=\"binary_crossentropy\", optimizer=\"adam\", metrics=[\"categorical_accuracy\"]\n",
    ")\n",
    "\n",
    "history = shallow_mlp_model.fit(\n",
    "    train_dataset, validation_data=validation_dataset, epochs=epochs\n",
    ")\n",
    "\n",
    "\n",
    "def plot_result(item):\n",
    "    plt.plot(history.history[item], label=item)\n",
    "    plt.plot(history.history[\"val_\" + item], label=\"val_\" + item)\n",
    "    plt.xlabel(\"Epochs\")\n",
    "    plt.ylabel(item)\n",
    "    plt.title(\"Train and Validation {} Over Epochs\".format(item), fontsize=14)\n",
    "    plt.legend()\n",
    "    plt.grid()\n",
    "    plt.show()\n",
    "\n",
    "\n",
    "plot_result(\"loss\")\n",
    "plot_result(\"categorical_accuracy\")"
   ]
  },
  {
   "cell_type": "markdown",
   "metadata": {
    "id": "IHN6JV4lXkHT"
   },
   "source": [
    "Проверим точность на тестовой выборке:"
   ]
  },
  {
   "cell_type": "code",
   "execution_count": 16,
   "metadata": {
    "colab": {
     "base_uri": "https://localhost:8080/"
    },
    "executionInfo": {
     "elapsed": 540,
     "status": "ok",
     "timestamp": 1647993540247,
     "user": {
      "displayName": "Timur Khabibullin",
      "photoUrl": "https://lh3.googleusercontent.com/a-/AOh14GhOK0kcrUXUwPQDbjACA0rItmrC9sTNoFqjgi6gFg=s64",
      "userId": "18246770792160690538"
     },
     "user_tz": -180
    },
    "id": "7wRyOyhnXkHT",
    "outputId": "8cb87404-f190-4bdd-9b69-5e9554a7bc4d"
   },
   "outputs": [
    {
     "name": "stdout",
     "output_type": "stream",
     "text": [
      "7/7 [==============================] - 0s 22ms/step - loss: 0.9587 - categorical_accuracy: 0.6764\n",
      "Categorical accuracy on the test set: 67.64%.\n"
     ]
    }
   ],
   "source": [
    "_, categorical_acc = shallow_mlp_model.evaluate(test_dataset)\n",
    "print(f\"Categorical accuracy on the test set: {round(categorical_acc * 100, 2)}%.\")"
   ]
  },
  {
   "cell_type": "code",
   "execution_count": null,
   "metadata": {},
   "outputs": [],
   "source": []
  }
 ],
 "metadata": {
  "accelerator": "GPU",
  "colab": {
   "collapsed_sections": [],
   "name": "Копия блокнота \"multi_label_classification\"",
   "provenance": [
    {
     "file_id": "https://github.com/keras-team/keras-io/blob/master/examples/nlp/ipynb/multi_label_classification.ipynb",
     "timestamp": 1647981805556
    }
   ]
  },
  "kernelspec": {
   "display_name": "Python 3 (ipykernel)",
   "language": "python",
   "name": "python3"
  },
  "language_info": {
   "codemirror_mode": {
    "name": "ipython",
    "version": 3
   },
   "file_extension": ".py",
   "mimetype": "text/x-python",
   "name": "python",
   "nbconvert_exporter": "python",
   "pygments_lexer": "ipython3",
   "version": "3.9.7"
  }
 },
 "nbformat": 4,
 "nbformat_minor": 1
}
